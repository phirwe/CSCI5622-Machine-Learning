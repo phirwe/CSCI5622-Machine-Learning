{
 "cells": [
  {
   "cell_type": "markdown",
   "metadata": {},
   "source": [
    "# K-Nearest Neighbors Homework Solutions\n",
    "***\n",
    "**Name**: Poorwa Hirve (Identikey: pohi2375)\n",
    "***\n",
    "\n",
    "This assignment is due on Moodle by **5pm on Friday January 26th**. Submit only this Jupyter notebook to Moodle.  Do not compress it using tar, rar, zip, etc. Your solutions to analysis questions should be done in Markdown directly below the associated question.  Remember that you are encouraged to discuss the problems with your instructors and classmates, but **you must write all code and solutions on your own**.  For a refresher on the course **Collaboration Policy** click [here](https://github.com/chrisketelsen/CSCI5622-Machine-Learning/blob/master/resources/syllabus.md#collaboration-policy)\n",
    "\n"
   ]
  },
  {
   "cell_type": "markdown",
   "metadata": {},
   "source": [
    "## Overview \n",
    "***\n",
    "\n",
    "\n",
    "In this homework you'll implement a K-Nearest Neighbor framework to take an image of a handwritten digit and predict which digit it corresponds to.  \n",
    "\n",
    "<br>\n",
    "\n",
    "![Samples of Handwritten Digits](wide_mnist.png \"MNIST Digits\")\n",
    "\n",
    "\n",
    "<br>\n",
    "\n",
    "This homework is designed to be pretty easy. If you're spending a ton of time on this assignment, then you are either:\n",
    "\n",
    "- not prepared to take this course (i.e., if you're struggling with Python)\n",
    "- seriously over-thinking the assignment\n",
    "- trying to implement too much of KNN from scratch\n",
    "\n",
    "\n",
    "Most of this assignment will be done by calling libraries that are already implemented for you. If you are implementing $n$-dimensional search or your own distance metrics, you are generating extra work for yourself and making yourself vulnerable to errors. \n",
    "\n",
    "Here are the rules: \n",
    "\n",
    "- Do **NOT** load or use any Python packages that are not available in Anaconda 3.6. \n",
    "- Some problems with code may be autograded.  If we provide a function or class API **do not** change it.\n",
    "- Do not change the location of the data or data directory.  Use only relative paths to access the data. "
   ]
  },
  {
   "cell_type": "code",
   "execution_count": 1,
   "metadata": {
    "collapsed": true
   },
   "outputs": [],
   "source": [
    "import numpy as np\n",
    "import matplotlib.pylab as plt\n",
    "%matplotlib inline "
   ]
  },
  {
   "cell_type": "markdown",
   "metadata": {},
   "source": [
    "### [5 points] Problem 1\n",
    "***\n",
    "\n",
    "The class below will load and store the MNIST data.  Load the data and then report: \n",
    "- The number of examples in the training set \n",
    "- The number of examples in the test set \n",
    "- The number of pixels in each image. "
   ]
  },
  {
   "cell_type": "code",
   "execution_count": 2,
   "metadata": {
    "collapsed": true
   },
   "outputs": [],
   "source": [
    "class Numbers:\n",
    "    \"\"\"\n",
    "    Class to store MNIST data\n",
    "    \"\"\"\n",
    "    def __init__(self, location):\n",
    "\n",
    "        import pickle, gzip\n",
    "\n",
    "        # load data from file \n",
    "        f = gzip.open(location, 'rb')\n",
    "        train_set, valid_set, test_set = pickle.load(f)\n",
    "        f.close()\n",
    "\n",
    "        # store for use later  \n",
    "        self.train_x, self.train_y = train_set\n",
    "        self.test_x, self.test_y = valid_set"
   ]
  },
  {
   "cell_type": "code",
   "execution_count": 3,
   "metadata": {},
   "outputs": [],
   "source": [
    "data = Numbers(\"../data/mnist.pklz\")"
   ]
  },
  {
   "cell_type": "code",
   "execution_count": 4,
   "metadata": {},
   "outputs": [
    {
     "name": "stdout",
     "output_type": "stream",
     "text": [
      "Number of train examples: 50000\n",
      "Number of test examples: 10000\n",
      "Number of pixels in each image: 784\n"
     ]
    }
   ],
   "source": [
    "# Printing the number of train examples\n",
    "print (\"Number of train examples:\",len(data.train_y))\n",
    "\n",
    "# Printing the number of test examples\n",
    "print (\"Number of test examples:\",len(data.test_y))\n",
    "\n",
    "# Printing the number of pixels in each image\n",
    "print (\"Number of pixels in each image:\",len(data.train_x[0]))"
   ]
  },
  {
   "cell_type": "markdown",
   "metadata": {},
   "source": [
    "### [30 points] Problem 2\n",
    "***\n",
    "\n",
    "The class below will perform K-Nearest Neighbor classification on our handwritten digit data. Your tasks are as follows:   \n",
    "\n",
    "1. Modify the `label_counts` function to return a dictionary of frequencies corresponding to each label in the training set. \n",
    "1. Modify the `majority` function so that it returns the _label_ that appears most frequently in the $K$-nearest neighbors of the query point.  In the case that the maximum frequency occurs for two or more labels, return the one that appears most frequently in the entire training set. In the case that there is still a tie, break the tie in any way that you choose. \n",
    "1. Modify the `classify` function so that it finds the _indices_ of the $K$ closest training examples to the query point and then calls the `majority` function to return the predicted label. Almost all of the heavy lifting here will be done by the BallTree object from `sklearn.neighbors`, so you'll want to start out by reading the [documentation](http://scikit-learn.org/stable/modules/generated/sklearn.neighbors.BallTree.html).  \n",
    "1. Modify the `confusion_matrix` function to classify examples and record the results in a confusion matrix. You should construct the confusion matrix on your own.  Don't call any additional functions from sklearn to do it for you.\n",
    "\n",
    "The class Knearest also implements an `accuracy` function which you will use in **Problem 3**.  You should not have to modify this function. \n",
    "\n",
    "We've given you unit tests down below based on the simple example worked out in lecture.  At first your code will fail all of them.  Do not move on to **Problem 3** until your code passes all of the unit tests. In addition, passing the unit tests does not guarantee that your implementation is robust and that you'll earn full points on this problem.  You should be designing your own additional tests as well. "
   ]
  },
  {
   "cell_type": "code",
   "execution_count": 24,
   "metadata": {},
   "outputs": [],
   "source": [
    "class Knearest:\n",
    "    \"\"\"\n",
    "    kNN classifier\n",
    "    \"\"\"\n",
    "\n",
    "    def __init__(self, X, y, k=5):\n",
    "        \"\"\"\n",
    "        Creates a kNN instance\n",
    "\n",
    "        :param x: Training data input\n",
    "        :param y: Training data output\n",
    "        :param k: The number of nearest points to consider in classification\n",
    "        \"\"\"\n",
    "        \n",
    "        from sklearn.neighbors import BallTree\n",
    "        self._X = X\n",
    "        self._kdtree = BallTree(X)\n",
    "        self._y = y\n",
    "        self._k = k\n",
    "        self._counts = self.label_counts()\n",
    "        \n",
    "    def label_counts(self):\n",
    "        \"\"\"\n",
    "        Given the training labels, return a dictionary d where d[y] is  \n",
    "        the number of times that label y appears in the training set. \n",
    "        \"\"\"\n",
    "        \n",
    "        unique, counts = np.unique(self._y, return_counts=True)\n",
    "        #print (\"Printing counts\")\n",
    "        #print (counts)\n",
    "        #print (\"Printing counts dict\")\n",
    "        counts_dictionary = dict(zip(unique, counts))\n",
    "        \n",
    "        #print (counts_dictionary)\n",
    "        \n",
    "        return counts_dictionary\n",
    "\n",
    "    def majority(self, neighbor_indices):\n",
    "        \"\"\"\n",
    "        Given the indices of training examples, return the majority label. Break ties \n",
    "        by choosing the tied label that appears most often in the training data. \n",
    "\n",
    "        :param neighbor_indices: The indices of the k nearest neighbors\n",
    "        \"\"\"\n",
    "        assert len(neighbor_indices) == self._k, \"Did not get k neighbor indices\"\n",
    "               \n",
    "        label_list = []\n",
    "\n",
    "        for indices in neighbor_indices:\n",
    "            label_list.append(self._y[indices])\n",
    "        \n",
    "        #print (label_list)\n",
    "        \n",
    "        import collections\n",
    "        \n",
    "        c = collections.Counter(label_list)\n",
    "        \n",
    "        #print (c)\n",
    "        \n",
    "        #max_counts = c[label_list[0]]\n",
    "        output_label = label_list[0]\n",
    "        \n",
    "        for label in c.keys():\n",
    "            #print (\"Label:\", label, \"with count:\", c[label], \"compared to MAX = \", max_counts)\n",
    "            if c[label] > c[output_label]:\n",
    "                #print (\"Count of\",label,\"is greater than count of\",output_label)\n",
    "                output_label = label\n",
    "                \n",
    "            elif c[label] == c[output_label]:\n",
    "                if self._counts[label] > self._counts[output_label]:\n",
    "                    #print (\"Self Count of\",label,\"is greater than count of\",output_label)\n",
    "                    output_label = label\n",
    "\n",
    "                    \n",
    "        return output_label\n",
    "\n",
    "    def classify(self, example):\n",
    "        \"\"\"\n",
    "        Given an example, return the predicted label. \n",
    "\n",
    "        :param example: A representation of an example in the same\n",
    "        format as a row of the training data\n",
    "        \"\"\"\n",
    "        \n",
    "        new_example = example.reshape(1, -1)\n",
    "        neighbor_distance, neighbor_indices = self._kdtree.query(new_example, k=self._k)\n",
    "        \n",
    "        \n",
    "        #print (self.majority(neighbor_indices[0]))\n",
    "            \n",
    "        return self.majority(neighbor_indices[0])\n",
    "\n",
    "\n",
    "\n",
    "    def confusion_matrix(self, test_x, test_y):\n",
    "        \"\"\"\n",
    "        Given a matrix of test examples and labels, compute the confusion\n",
    "        matrix for the current classifier.  Should return a 2-dimensional\n",
    "        numpy array of ints, C, where C[ii,jj] is the number of times an \n",
    "        example with true label ii was labeled as jj.\n",
    "\n",
    "        :param test_x: test data \n",
    "        :param test_y: true test labels \n",
    "        \"\"\"\n",
    "\n",
    "        # True test labels -> yy -> rows of C\n",
    "        # Predicted labels -> pred_y -> columns of C\n",
    "        \n",
    "        C = np.zeros((len(self._counts), len(self._counts)))\n",
    "        for xx, yy in zip(test_x, test_y):\n",
    "            pred_y = self.classify(xx)\n",
    "            C[yy][pred_y] += 1\n",
    "\n",
    "        \n",
    "        return C\n",
    "        \n",
    "    @staticmethod\n",
    "    def accuracy(C):\n",
    "        \"\"\"\n",
    "        Given a confusion matrix C, compute the accuracy of the underlying classifier.\n",
    "        \n",
    "        :param C: a confusion matrix \n",
    "        \"\"\"\n",
    "        \n",
    "        return np.sum(C.diagonal()) / C.sum()\n"
   ]
  },
  {
   "cell_type": "markdown",
   "metadata": {},
   "source": [
    "Here are the unit tests.  You don't need to modify them.  Simply execute the cell and observe the output. "
   ]
  },
  {
   "cell_type": "code",
   "execution_count": 25,
   "metadata": {
    "scrolled": true
   },
   "outputs": [
    {
     "name": "stderr",
     "output_type": "stream",
     "text": [
      "....\n",
      "----------------------------------------------------------------------\n",
      "Ran 4 tests in 0.008s\n",
      "\n",
      "OK\n"
     ]
    },
    {
     "data": {
      "text/plain": [
       "<unittest.runner.TextTestResult run=4 errors=0 failures=0>"
      ]
     },
     "execution_count": 25,
     "metadata": {},
     "output_type": "execute_result"
    }
   ],
   "source": [
    "import unittest\n",
    "\n",
    "class TestKnn(unittest.TestCase):\n",
    "    def setUp(self):\n",
    "        self.x = np.array([[2, 0], [4, 1], [6, 0], [1, 4], [2, 4], [2, 5], [4, 4], [0, 2], [3, 2], [4, 2], [5, 2], [5, 5]])\n",
    "        self.y = np.array([+1, +1, +1, +1, +1, +1, +1, -1, -1, -1, -1, -1])\n",
    "        self.knn = {}\n",
    "        for ii in [1, 2, 3]:\n",
    "            self.knn[ii] = Knearest(self.x, self.y, ii)\n",
    "\n",
    "        self.queries = np.array([[1, 5], [0, 3], [6, 4]])\n",
    "        \n",
    "    def test0(self):\n",
    "        \"\"\"\n",
    "        Test the label counter \n",
    "        \"\"\"\n",
    "        self.assertEqual(self.knn[1]._counts[-1], 5)\n",
    "        self.assertEqual(self.knn[1]._counts[1], 7)\n",
    "\n",
    "    def test1(self):\n",
    "        \"\"\"\n",
    "        Test 1NN\n",
    "        \"\"\"\n",
    "        self.assertEqual(self.knn[1].classify(self.queries[0]),  1)\n",
    "        self.assertEqual(self.knn[1].classify(self.queries[1]), -1)\n",
    "        self.assertEqual(self.knn[1].classify(self.queries[2]), -1)\n",
    "\n",
    "    def test2(self):\n",
    "        \"\"\"\n",
    "        Test 2NN\n",
    "        \"\"\"\n",
    "        self.assertEqual(self.knn[2].classify(self.queries[0]),  1)\n",
    "        self.assertEqual(self.knn[2].classify(self.queries[1]),  1)\n",
    "        self.assertEqual(self.knn[2].classify(self.queries[2]),  1)\n",
    "\n",
    "    def test3(self):\n",
    "        \"\"\"\n",
    "        Test 3NN\n",
    "        \"\"\"\n",
    "        self.assertEqual(self.knn[3].classify(self.queries[0]),  1)\n",
    "        self.assertEqual(self.knn[3].classify(self.queries[1]),  1)\n",
    "        self.assertEqual(self.knn[3].classify(self.queries[2]), -1)\n",
    "        \n",
    "tests = TestKnn()\n",
    "tests_to_run = unittest.TestLoader().loadTestsFromModule(tests)\n",
    "unittest.TextTestRunner().run(tests_to_run)"
   ]
  },
  {
   "cell_type": "markdown",
   "metadata": {},
   "source": [
    "### [15 points] Problem 3\n",
    "***\n",
    "\n",
    "In this problem you'll explore the performance of the classifier you've written.  A word of advice: don't use the entire training set, especially at first.  We'll be using this dataset again later on with techniques that scale better.    "
   ]
  },
  {
   "cell_type": "markdown",
   "metadata": {},
   "source": [
    "**Part A**: Explore the relationship between the number of training examples and accuracy on the test set. Comment on your findings and support your observations with some kind of graphic. "
   ]
  },
  {
   "cell_type": "code",
   "execution_count": 9,
   "metadata": {},
   "outputs": [],
   "source": [
    "x_plot_train_1 = [x for x in range(500,50000,5000)]\n",
    "y_plot_train_1 = []\n",
    "test_x = data.test_x\n",
    "test_y = data.test_y\n",
    "for train_sets in x_plot_train_1:\n",
    "    train_x = data.train_x[:train_sets]\n",
    "    train_y = data.train_y[:train_sets]\n",
    "    knn = Knearest(train_x, train_y, 1)\n",
    "    C = knn.confusion_matrix(test_x, test_y)\n",
    "    y_plot_train_1.append(knn.accuracy(C))"
   ]
  },
  {
   "cell_type": "code",
   "execution_count": 46,
   "metadata": {},
   "outputs": [
    {
     "data": {
      "image/png": "[encoded data removed]",
      "text/plain": [
       "<matplotlib.figure.Figure at 0x10e7c9e10>"
      ]
     },
     "metadata": {},
     "output_type": "display_data"
    }
   ],
   "source": [
    "plt.plot(x_plot_train_1, y_plot_train_1, 'ro')\n",
    "plt.xlabel('Number of training examples k = 1')\n",
    "plt.ylabel('Accuracy')\n",
    "plt.show()"
   ]
  },
  {
   "cell_type": "code",
   "execution_count": 11,
   "metadata": {
    "collapsed": true
   },
   "outputs": [],
   "source": [
    "x_plot_train_3 = [x for x in range(500,50000,5000)]\n",
    "y_plot_train_3 = []\n",
    "test_x = data.test_x\n",
    "test_y = data.test_y\n",
    "for train_sets in x_plot_train_3:\n",
    "    train_x = data.train_x[:train_sets]\n",
    "    train_y = data.train_y[:train_sets]\n",
    "    knn = Knearest(train_x, train_y, 3)\n",
    "    C = knn.confusion_matrix(test_x, test_y)\n",
    "    y_plot_train_3.append(knn.accuracy(C))"
   ]
  },
  {
   "cell_type": "code",
   "execution_count": 47,
   "metadata": {},
   "outputs": [
    {
     "data": {
      "image/png": "[encoded data removed]",
      "text/plain": [
       "<matplotlib.figure.Figure at 0x10e8a3ba8>"
      ]
     },
     "metadata": {},
     "output_type": "display_data"
    }
   ],
   "source": [
    "plt.plot(x_plot_train_3, y_plot_train_3, 'ro')\n",
    "plt.xlabel('Number of training examples k = 3')\n",
    "plt.ylabel('Accuracy')\n",
    "plt.show()"
   ]
  },
  {
   "cell_type": "markdown",
   "metadata": {},
   "source": [
    "**Solution:**\n",
    "\n",
    "**Relationship between number of training examples and accuracy on test set**: The relationship shows that with the increase in training examples, accuracy on the test set increases. With k = 1, as the number of training samples increases, accuracy increases sharply at first then stablizes with very slight increase. With k = 3, the accuracy increases sharply at first then stabilizes at around 97%."
   ]
  },
  {
   "cell_type": "markdown",
   "metadata": {},
   "source": [
    "**Part B**: Explore the relationship between the number of nearest neighbors and accuracy on the test set. Comment on your findings and support your observations with some kind of graphic. "
   ]
  },
  {
   "cell_type": "code",
   "execution_count": 13,
   "metadata": {},
   "outputs": [],
   "source": [
    "x_plot_k = [x for x in range(1,22,2)]\n",
    "y_plot_k = []\n",
    "test_x = data.test_x\n",
    "test_y = data.test_y\n",
    "train_x = data.train_x\n",
    "train_y = data.train_y\n",
    "for k in x_plot_k:\n",
    "    knn = Knearest(train_x, train_y, k)\n",
    "    C = knn.confusion_matrix(test_x, test_y)\n",
    "    y_plot_k.append(knn.accuracy(C))"
   ]
  },
  {
   "cell_type": "code",
   "execution_count": 14,
   "metadata": {},
   "outputs": [
    {
     "data": {
      "image/png": "[encoded data removed]",
      "text/plain": [
       "<matplotlib.figure.Figure at 0x10d3c0710>"
      ]
     },
     "metadata": {},
     "output_type": "display_data"
    }
   ],
   "source": [
    "plt.plot(x_plot_k, y_plot_k, 'ro')\n",
    "plt.xlabel('Values of K')\n",
    "plt.ylabel('Accuracy')\n",
    "plt.show()"
   ]
  },
  {
   "cell_type": "markdown",
   "metadata": {},
   "source": [
    "**Solution:**\n",
    "\n",
    "**Relationship between number of nearest neighbors and accuracy on test set**: The relationship shows that with the increase in nearest neighbors, accuracy on the test set decreases. This is because as k increases, the number of nearest neighbors increases which causes irregularities in predicting the digit, leading to decrease in accuracy. K = 3 is seen to be the best value of k as it gives the maximum accuracy on the test data."
   ]
  },
  {
   "cell_type": "markdown",
   "metadata": {},
   "source": [
    "**Part C**: Which numbers get confused with each other the most easily?  Use the confusion_matrix function that you wrote above to support your conclusion.  Then use the `view_digit` function given below to plot a few examples of misclassified digits and discuss possible reasons for the misclassifications.  (Investigating misclassified examples is called **error analysis** and is an important step in the development of any classification technique).  "
   ]
  },
  {
   "cell_type": "code",
   "execution_count": 54,
   "metadata": {},
   "outputs": [],
   "source": [
    "knn = Knearest(data.train_x, data.train_y, 3)\n",
    "C = knn.confusion_matrix(data.test_x, data.test_y)"
   ]
  },
  {
   "cell_type": "code",
   "execution_count": 57,
   "metadata": {},
   "outputs": [
    {
     "name": "stdout",
     "output_type": "stream",
     "text": [
      "A\\P|\t0\t1\t2\t3\t4\t5\t6\t7\t8\t9\n",
      "------------------------------------------------------------------------------------\n",
      "0:\t982\t0\t3\t0\t0\t0\t2\t1\t1\t2\t\n",
      "1:\t0\t1060\t1\t0\t1\t0\t1\t1\t0\t0\t\n",
      "2:\t3\t8\t952\t3\t1\t1\t1\t20\t1\t0\t\n",
      "3:\t0\t0\t4\t1005\t0\t8\t1\t3\t6\t3\t\n",
      "4:\t0\t11\t0\t0\t949\t0\t0\t4\t0\t19\t\n",
      "5:\t2\t0\t2\t20\t1\t867\t16\t3\t1\t3\t\n",
      "6:\t1\t1\t0\t0\t0\t1\t964\t0\t0\t0\t\n",
      "7:\t0\t10\t0\t0\t2\t0\t0\t1072\t0\t6\t\n",
      "8:\t2\t8\t2\t15\t3\t14\t5\t6\t947\t7\t\n",
      "9:\t2\t3\t0\t11\t11\t3\t0\t10\t2\t919\t\n",
      "\n",
      "Accuracy of KNN with k = 3: 97.17\n"
     ]
    }
   ],
   "source": [
    "# Rows are the actual values; Columns are the predicted values\n",
    "print ('A\\P|\\t0\\t1\\t2\\t3\\t4\\t5\\t6\\t7\\t8\\t9')\n",
    "print ('------------------------------------------------------------------------------------')\n",
    "for i in range(len(knn._counts)):\n",
    "    print (str(i) + \":\", end='\\t')\n",
    "    for j in range(10):\n",
    "        print (int(C[i][j]), end='\\t')\n",
    "    print()\n",
    "    \n",
    "print (\"\\nAccuracy of KNN with k = 3:\",knn.accuracy(C)*100)"
   ]
  },
  {
   "cell_type": "code",
   "execution_count": 64,
   "metadata": {},
   "outputs": [],
   "source": [
    "def view_digit(example, label=None):\n",
    "    if label: print(\"true label: {:d}\".format(label))\n",
    "    plt.imshow(example.reshape(28,28), cmap='gray');\n",
    "\n",
    "confused = []\n",
    "confused_i = []\n",
    "y_preds = []\n",
    "i = 0\n",
    "j = 0\n",
    "done = []\n",
    "for xx, yy in zip(data.test_x, data.test_y):\n",
    "    pred_y = knn.classify(xx)\n",
    "    check = str(yy) + str(pred_y)\n",
    "    if pred_y != yy and C[yy][pred_y] >= 15 and check not in done:\n",
    "        confused.append(xx)\n",
    "        confused_i.append(yy)\n",
    "        y_preds.append(pred_y)\n",
    "        done.append(check)\n",
    "        i += 1\n",
    "        if i == 5:\n",
    "            break"
   ]
  },
  {
   "cell_type": "code",
   "execution_count": 65,
   "metadata": {},
   "outputs": [
    {
     "name": "stdout",
     "output_type": "stream",
     "text": [
      "true label: 4\n",
      "predicted label: 9\n"
     ]
    },
    {
     "data": {
      "image/png": "[encoded data removed]",
      "text/plain": [
       "<matplotlib.figure.Figure at 0x10e35c390>"
      ]
     },
     "metadata": {},
     "output_type": "display_data"
    }
   ],
   "source": [
    "view_digit(confused[0], confused_i[0])\n",
    "print (\"predicted label:\",y_preds[0])"
   ]
  },
  {
   "cell_type": "code",
   "execution_count": 66,
   "metadata": {},
   "outputs": [
    {
     "name": "stdout",
     "output_type": "stream",
     "text": [
      "true label: 2\n",
      "predicted label: 7\n"
     ]
    },
    {
     "data": {
      "image/png": "[encoded data removed]",
      "text/plain": [
       "<matplotlib.figure.Figure at 0x10d3b74a8>"
      ]
     },
     "metadata": {},
     "output_type": "display_data"
    }
   ],
   "source": [
    "view_digit(confused[1], confused_i[1])\n",
    "print (\"predicted label:\",y_preds[1])"
   ]
  },
  {
   "cell_type": "code",
   "execution_count": 67,
   "metadata": {},
   "outputs": [
    {
     "name": "stdout",
     "output_type": "stream",
     "text": [
      "true label: 8\n",
      "predicted label: 3\n"
     ]
    },
    {
     "data": {
      "image/png": "[encoded data removed]",
      "text/plain": [
       "<matplotlib.figure.Figure at 0x11540e860>"
      ]
     },
     "metadata": {},
     "output_type": "display_data"
    }
   ],
   "source": [
    "view_digit(confused[2], confused_i[2])\n",
    "print (\"predicted label:\",y_preds[2])"
   ]
  },
  {
   "cell_type": "code",
   "execution_count": 68,
   "metadata": {},
   "outputs": [
    {
     "name": "stdout",
     "output_type": "stream",
     "text": [
      "true label: 5\n",
      "predicted label: 3\n"
     ]
    },
    {
     "data": {
      "image/png": "[encoded data removed]",
      "text/plain": [
       "<matplotlib.figure.Figure at 0x10e9886a0>"
      ]
     },
     "metadata": {},
     "output_type": "display_data"
    }
   ],
   "source": [
    "view_digit(confused[3], confused_i[3])\n",
    "print (\"predicted label:\",y_preds[3])"
   ]
  },
  {
   "cell_type": "code",
   "execution_count": 69,
   "metadata": {},
   "outputs": [
    {
     "name": "stdout",
     "output_type": "stream",
     "text": [
      "true label: 5\n",
      "predicted label: 6\n"
     ]
    },
    {
     "data": {
      "image/png": "[encoded data removed]",
      "text/plain": [
       "<matplotlib.figure.Figure at 0x10e8ae8d0>"
      ]
     },
     "metadata": {},
     "output_type": "display_data"
    }
   ],
   "source": [
    "view_digit(confused[4], confused_i[4])\n",
    "print (\"predicted label:\",y_preds[4])"
   ]
  },
  {
   "cell_type": "markdown",
   "metadata": {},
   "source": [
    "**Solution:** \n",
    "\n",
    "The plots of the above digits show that the shape of the handwritten digits make the knn model confused as to which number it actually is. The first 2 strongly resembles a 7 due to its shape, similarly 4 resembles a 9 and so on. This error in classification occurs due to the way the digits have been written such that their pixel values and thus nearest neighbors influence the decision to classify as a wrong digit.\n",
    "\n",
    "The confusion matrix supports this as can be seen at the indices 4 and 9 for actual and predicted values C[4][9] where 19 test samples which are actually digit 4 have been misclassified as 9, and for 2 and 7 where C[2][7] = 20."
   ]
  }
 ],
 "metadata": {
  "anaconda-cloud": {},
  "kernelspec": {
   "display_name": "Python [Root]",
   "language": "python",
   "name": "Python [Root]"
  },
  "language_info": {
   "codemirror_mode": {
    "name": "ipython",
    "version": 3
   },
   "file_extension": ".py",
   "mimetype": "text/x-python",
   "name": "python",
   "nbconvert_exporter": "python",
   "pygments_lexer": "ipython3",
   "version": "3.5.5"
  }
 },
 "nbformat": 4,
 "nbformat_minor": 2
}
