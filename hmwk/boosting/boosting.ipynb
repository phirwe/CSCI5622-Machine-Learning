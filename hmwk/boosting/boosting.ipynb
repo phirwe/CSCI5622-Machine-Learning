{
 "cells": [
  {
   "cell_type": "markdown",
   "metadata": {
    "nbpresent": {
     "id": "787b0514-0d2c-4ff3-a2cf-82665ae8c50f"
    }
   },
   "source": [
    "# Boosting Homework \n",
    "***\n",
    "**Name**: Poorwa Hirve\n",
    "***\n",
    "\n",
    "This assignment is due on Moodle by **5pm on Friday April 13th**. Submit only this Jupyter notebook to Moodle.  Do not compress it using tar, rar, zip, etc. Your solutions to analysis questions should be done in Markdown directly below the associated question.  Remember that you are encouraged to discuss the problems with your instructors and classmates, but **you must write all code and solutions on your own**.  For a refresher on the course **Collaboration Policy** click [here](https://github.com/chrisketelsen/CSCI5622-Machine-Learning/blob/master/resources/syllabus.md#collaboration-policy)\n",
    "\n"
   ]
  },
  {
   "cell_type": "markdown",
   "metadata": {
    "nbpresent": {
     "id": "c1e3b629-fb66-4e06-a959-ccc7e7fb6b0a"
    }
   },
   "source": [
    "## Overview \n",
    "***\n",
    "\n",
    "\n",
    "\n",
    "In this homework you'll implement the AdaBoost classification framework to do handwritten digit recognition. Your implementation should be based on the description of AdaBoost given in the lecture slides.\n",
    "\n",
    "<br>\n",
    "\n",
    "![digits](mnist.png \"mnist data\")\n",
    "\n",
    "\n",
    "<br>\n",
    "\n",
    "Here are the rules: \n",
    "\n",
    "- Do **NOT** use sklearn's implementation of Adaboost.  You may however use sklearn's implementation of decisions trees. \n",
    "- Do **NOT** load or use any Python packages that are not available in Anaconda 3.6. \n",
    "- Some problems with code may be autograded.  If we provide a function or class API **do not** change it.\n",
    "- Do not change the location of the data or data directory.  Use only relative paths to access the data. "
   ]
  },
  {
   "cell_type": "code",
   "execution_count": 1,
   "metadata": {
    "ExecuteTime": {
     "end_time": "2018-04-02T09:58:16.624747Z",
     "start_time": "2018-04-02T09:58:15.916585Z"
    },
    "nbpresent": {
     "id": "c492c317-9f05-40c0-a989-deb5608e7f18"
    }
   },
   "outputs": [],
   "source": [
    "import numpy as np\n",
    "from sklearn.tree import DecisionTreeClassifier\n",
    "from sklearn.base import clone\n",
    "import matplotlib.pylab as plt\n",
    "import math\n",
    "%matplotlib inline"
   ]
  },
  {
   "cell_type": "markdown",
   "metadata": {
    "nbpresent": {
     "id": "dd8a0327-78bc-4896-b4f6-79b56e2399a2"
    }
   },
   "source": [
    "### [5 points] Problem 1\n",
    "***\n",
    "\n",
    "Since we'll be working with binary classifiers, we'll look at the subset of the MNIST data pertaining to handwritten three's and eights. Note that we'll also be using a lower-res version of the MNIST data used in the KNN homework. The class below will load, parse, and store the subset of the. Load the data and then report: \n",
    "\n",
    "- The number of examples in the training set \n",
    "- The number of examples in the validation set \n",
    "- The number of pixels in each image. "
   ]
  },
  {
   "cell_type": "code",
   "execution_count": 2,
   "metadata": {
    "ExecuteTime": {
     "end_time": "2018-04-02T09:58:18.840016Z",
     "start_time": "2018-04-02T09:58:18.805889Z"
    },
    "nbpresent": {
     "id": "cbe17f60-c9d1-42b2-be54-df93054b626a"
    }
   },
   "outputs": [],
   "source": [
    "class ThreesAndEights:\n",
    "    \"\"\"\n",
    "    Class to store MNIST data\n",
    "    \"\"\"\n",
    "\n",
    "    def __init__(self, location):\n",
    "\n",
    "        import pickle, gzip\n",
    "\n",
    "        # Load the dataset\n",
    "        f = gzip.open(location, 'rb')\n",
    "\n",
    "        # Split the data set \n",
    "        X_train, y_train, X_valid, y_valid = pickle.load(f)\n",
    "\n",
    "        # Extract only 3's and 8's for training set \n",
    "        self.X_train = X_train[np.logical_or( y_train==3, y_train == 8), :]\n",
    "        self.y_train = y_train[np.logical_or( y_train==3, y_train == 8)]\n",
    "        self.y_train = np.array([1 if y == 8 else -1 for y in self.y_train])\n",
    "        \n",
    "        # Shuffle the training data \n",
    "        shuff = np.arange(self.X_train.shape[0])\n",
    "        np.random.shuffle(shuff)\n",
    "        self.X_train = self.X_train[shuff,:]\n",
    "        self.y_train = self.y_train[shuff]\n",
    "\n",
    "        # Extract only 3's and 8's for validation set \n",
    "        self.X_valid = X_valid[np.logical_or( y_valid==3, y_valid == 8), :]\n",
    "        self.y_valid = y_valid[np.logical_or( y_valid==3, y_valid == 8)]\n",
    "        self.y_valid = np.array([1 if y == 8 else -1 for y in self.y_valid])\n",
    "        \n",
    "        f.close()"
   ]
  },
  {
   "cell_type": "code",
   "execution_count": 3,
   "metadata": {
    "ExecuteTime": {
     "end_time": "2018-04-02T09:58:19.740678Z",
     "start_time": "2018-04-02T09:58:19.609721Z"
    },
    "nbpresent": {
     "id": "d2042844-06c2-411a-906e-16db6876d93f"
    }
   },
   "outputs": [],
   "source": [
    "data = ThreesAndEights(\"../data/mnist21x21_3789.pklz\")"
   ]
  },
  {
   "cell_type": "code",
   "execution_count": 4,
   "metadata": {
    "nbpresent": {
     "id": "4a2507fe-0fb4-4394-b374-119c2bf89b8c"
    }
   },
   "outputs": [
    {
     "name": "stdout",
     "output_type": "stream",
     "text": [
      "Number of training examples: 2000\n",
      "Number of validation examples: 500\n",
      "Number of pixels in each image: 441\n"
     ]
    }
   ],
   "source": [
    "# Number of examples in training set\n",
    "print (\"Number of training examples:\", len(data.y_train))\n",
    "# Number of examples in validation set\n",
    "print (\"Number of validation examples:\", len(data.y_valid))\n",
    "# Number of pixels in each image\n",
    "print (\"Number of pixels in each image:\", len(data.X_train[0]))"
   ]
  },
  {
   "cell_type": "markdown",
   "metadata": {
    "nbpresent": {
     "id": "d9c0f970-684b-490b-8e36-2c1a50afd452"
    }
   },
   "source": [
    "### [20 points] Problem 2: Implementing AdaBoost  \n",
    "***\n",
    "\n",
    "We've given you a skeleton of the class `AdaBoost` below which will train a classifier based on boosted shallow decision trees as implemented by sklearn. Take a look at the class skeleton first so that you understand the underlying organization and data structures that we'll be using.  "
   ]
  },
  {
   "cell_type": "code",
   "execution_count": 5,
   "metadata": {
    "ExecuteTime": {
     "end_time": "2018-04-02T09:58:23.101470Z",
     "start_time": "2018-04-02T09:58:23.016833Z"
    }
   },
   "outputs": [],
   "source": [
    "class AdaBoost:\n",
    "    def __init__(self, n_learners=20, base=DecisionTreeClassifier(max_depth=1), random_state=1234):\n",
    "        \"\"\"\n",
    "        Create a new adaboost classifier.\n",
    "        \n",
    "        Args:\n",
    "            N (int, optional): Number of weak learners in classifier.\n",
    "            base (BaseEstimator, optional): Your general weak learner \n",
    "            random_state (int, optional): set random generator.  needed for unit testing. \n",
    "\n",
    "        Attributes:\n",
    "            base (estimator): Your general weak learner \n",
    "            n_learners (int): Number of weak learners in classifier.\n",
    "            alpha (ndarray): Coefficients on weak learners. \n",
    "            learners (list): List of weak learner instances. \n",
    "        \"\"\"\n",
    "        \n",
    "        np.random.seed(random_state)\n",
    "        \n",
    "        self.n_learners = n_learners \n",
    "        self.base = base\n",
    "        self.alpha = np.zeros(self.n_learners)\n",
    "        self.learners = []\n",
    "    def fit(self, X_train, y_train):\n",
    "        \"\"\"\n",
    "        Train AdaBoost classifier on data. Sets alphas and learners. \n",
    "        \n",
    "        Args:\n",
    "            X_train (ndarray): [n_samples x n_features] ndarray of training data   \n",
    "            y_train (ndarray): [n_samples] ndarray of data \n",
    "        \"\"\"\n",
    "        \n",
    "        w = np.ones(len(y_train))\n",
    "        w = w / len(y_train)\n",
    "            \n",
    "        for i in range(self.n_learners):\n",
    "            h = clone(self.base)\n",
    "            self.learners.append(h.fit(X_train, y_train, sample_weight=w))\n",
    "            \n",
    "            hypothesis = h.predict(X_train)\n",
    "\n",
    "            wtd_err = 0\n",
    "\n",
    "            for j in range(len(hypothesis)):\n",
    "                if hypothesis[j] != y_train[j]:\n",
    "                    wtd_err += w[j]\n",
    "\n",
    "            wtd_err = wtd_err / sum(w)\n",
    "            \n",
    "            self.alpha[i] = 0.5 * (math.log((1 - wtd_err) / wtd_err))\n",
    "            Z = sum(w)\n",
    "            for j in range(len(w)):\n",
    "                w[j] = w[j] * math.exp(-self.alpha[i] * y_train[j] * hypothesis[j])\n",
    "            \n",
    "            for j in range(len(w)):\n",
    "                w[j] /= Z\n",
    "            \n",
    "    def predict(self, X):\n",
    "        \"\"\"\n",
    "        Adaboost prediction for new data X.\n",
    "        \n",
    "        Args:\n",
    "            X (ndarray): [n_samples x n_features] ndarray of data \n",
    "            \n",
    "        Returns: \n",
    "            yhat (ndarray): [n_samples] ndarray of predicted labels {-1,1}\n",
    "        \"\"\"\n",
    "        \n",
    "        wtd_votes = np.zeros(len(X))\n",
    "\n",
    "        for i in range(len(X)):\n",
    "            \n",
    "            for j in range(len(self.learners)):\n",
    "                pred = self.learners[j].predict(X)[i]\n",
    "                wtd_votes[i] += self.alpha[j] * pred\n",
    "            \n",
    "            if wtd_votes[i] > 0:\n",
    "                wtd_votes[i] = 1\n",
    "            else:\n",
    "                wtd_votes[i] = -1\n",
    "        \n",
    "        \n",
    "        return wtd_votes\n",
    "    \n",
    "    def score(self, X, y):\n",
    "        \"\"\"\n",
    "        Computes prediction accuracy of classifier.  \n",
    "        \n",
    "        Args:\n",
    "            X (ndarray): [n_samples x n_features] ndarray of data \n",
    "            y (ndarray): [n_samples] ndarray of true labels  \n",
    "            \n",
    "        Returns: \n",
    "            Prediction accuracy (between 0.0 and 1.0).\n",
    "        \"\"\"\n",
    "        \n",
    "        pred_y = self.predict(X)\n",
    "        acc = np.sum(pred_y==y).sum()\n",
    "        return float(acc / len(y))\n",
    "        \n",
    "    \n",
    "    def staged_score(self, X, y):\n",
    "        \"\"\"\n",
    "        Computes the ensemble score after each iteration of boosting \n",
    "        for monitoring purposes, such as to determine the score on a \n",
    "        test set after each boost.\n",
    "        \n",
    "        Args:\n",
    "            X (ndarray): [n_samples x n_features] ndarray of data \n",
    "            y (ndarray): [n_samples] ndarray of true labels  \n",
    "            \n",
    "        Returns: \n",
    "            scores (ndarary): [n_learners] ndarray of scores \n",
    "        \"\"\"\n",
    "\n",
    "        stg_score = np.zeros(self.n_learners)\n",
    "        new_pred = np.zeros(len(y))\n",
    "        for i in range(self.n_learners):\n",
    "            \n",
    "            pred_y = self.learners[i].predict(X)\n",
    "            new_pred += self.alpha[i] * pred_y\n",
    "        \n",
    "            for j in range(len(new_pred)):\n",
    "                if new_pred[j] > 0:\n",
    "                    pred_y[j] = 1\n",
    "                else:\n",
    "                    pred_y[j] = -1\n",
    "            \n",
    "            num = np.sum(pred_y==y).sum()\n",
    "            stg_score[i] = float(num) / float(len(y))\n",
    "\n",
    "        return  stg_score\n",
    "    \n",
    "    def staged_margin(self, x, y):\n",
    "        \"\"\"\n",
    "        Computes the staged margin after each iteration of boosting \n",
    "        for a single training example x and true label y\n",
    "        \n",
    "        Args:\n",
    "            x (ndarray): [n_features] ndarray of data \n",
    "            y (integer): an integer {-1,1} representing the true label of x \n",
    "            \n",
    "        Returns: \n",
    "            margins (ndarary): [n_learners] ndarray of margins \n",
    "        \"\"\"\n",
    "        \n",
    "        # TODO \n",
    "        margins = np.zeros(self.n_learners)\n",
    "        \n",
    "        normalized_alpha = self.alpha / sum(self.alpha)\n",
    "        margin_val = 0\n",
    "        for i in range(self.n_learners):\n",
    "            margins[i] += margin_val\n",
    "            pred_y = self.learners[i].predict([x])[0]\n",
    "            \n",
    "            if pred_y == y:\n",
    "                margins[i] += normalized_alpha[i]\n",
    "            else:\n",
    "                margins[i] -= normalized_alpha[i]\n",
    "            margin_val = margins[i]\n",
    "        return margins\n",
    "        \n",
    "        \n",
    "        \n",
    "        "
   ]
  },
  {
   "cell_type": "markdown",
   "metadata": {
    "nbpresent": {
     "id": "2a5ced58-e3ec-4ebc-bd48-367221ab1929"
    }
   },
   "source": [
    "Recall that the model we attempt to learn in AdaBoost is given by \n",
    "\n",
    "$$\n",
    "H({\\bf x}) = \\textrm{sign}\\left[\\displaystyle\\sum_{k=1}^K\\alpha_k h_k({\\bf x}) \\right]\n",
    "$$\n",
    "\n",
    "where $h_k({\\bf x})$ is the $k^\\textrm{th}$ weak learner and $\\alpha_k$ is it's associated ensemble coefficient.  \n",
    "\n",
    "**Part A**: Implement the `fit` method to learn the sequence of weak learners $\\left\\{h_k({\\bf x})\\right\\}_{k=1}^K$ and corresponding coefficients $\\left\\{ \\alpha_k\\right\\}_{k=1}^K$. Note that you may use sklearn's implementation of DecisionTreeClassifier as your weak learner which allows you to pass as an optional parameter the weights associated with each training example.  An example of instantiating and training a single learner is given in the comments of the `fit` method.  \n",
    "\n",
    "When you think you're done, run the following unit tests which corresponds to the AdaBoost example given in the lecture slides. \n"
   ]
  },
  {
   "cell_type": "code",
   "execution_count": 6,
   "metadata": {
    "ExecuteTime": {
     "end_time": "2018-04-02T09:58:25.957948Z",
     "start_time": "2018-04-02T09:58:25.948471Z"
    },
    "nbpresent": {
     "id": "88a691af-cff6-436c-85cb-72936ebb076d"
    },
    "scrolled": false
   },
   "outputs": [
    {
     "name": "stderr",
     "output_type": "stream",
     "text": [
      "test_alphas (__main__.TestBoost) ... ok\n",
      "\n",
      "----------------------------------------------------------------------\n",
      "Ran 1 test in 0.006s\n",
      "\n",
      "OK\n"
     ]
    }
   ],
   "source": [
    "%run -i tests.py \"part A\""
   ]
  },
  {
   "cell_type": "markdown",
   "metadata": {
    "nbpresent": {
     "id": "5590b986-ff46-4652-9ef5-f1b0cbcbae49"
    }
   },
   "source": [
    "**Part B**: After your `fit` method is working properly, implement the `predict` method to make predictions for unseen examples stored in a data matrix ${\\bf X}$.  \n",
    "\n",
    "**Note**: Remember that AdaBoost assumes that your predictions are of the form $y \\in \\{-1, 1\\}$. \n",
    "\n",
    "When you think you're done, run the following unit tests which corresponds to the AdaBoost example given in the lecture slides. "
   ]
  },
  {
   "cell_type": "code",
   "execution_count": 7,
   "metadata": {
    "ExecuteTime": {
     "end_time": "2018-04-02T09:58:29.697855Z",
     "start_time": "2018-04-02T09:58:29.689876Z"
    },
    "nbpresent": {
     "id": "83c46e00-3e46-4062-b328-8de4df26b2b2"
    },
    "scrolled": false
   },
   "outputs": [
    {
     "name": "stderr",
     "output_type": "stream",
     "text": [
      "test_prediction (__main__.TestBoost) ... ok\n",
      "\n",
      "----------------------------------------------------------------------\n",
      "Ran 1 test in 0.010s\n",
      "\n",
      "OK\n"
     ]
    }
   ],
   "source": [
    "%run -i tests.py \"part B\""
   ]
  },
  {
   "cell_type": "markdown",
   "metadata": {
    "nbpresent": {
     "id": "b52e9457-b984-4af2-899a-fa95dd854195"
    }
   },
   "source": [
    "**Part C**: Next, implement the `score` method which takes in a matrix of examples ${\\bf X}$ and their associated true labels ${\\bf y}$, makes predictions, and returns the classification accuracy.   \n",
    "\n",
    "When you think you're done, run the following unit tests. "
   ]
  },
  {
   "cell_type": "code",
   "execution_count": 8,
   "metadata": {
    "ExecuteTime": {
     "end_time": "2018-04-02T09:58:32.327702Z",
     "start_time": "2018-04-02T09:58:32.320424Z"
    },
    "nbpresent": {
     "id": "362617ad-ab93-4930-8466-6ca8bea415a9"
    }
   },
   "outputs": [
    {
     "name": "stderr",
     "output_type": "stream",
     "text": [
      "test_score (__main__.TestBoost) ... ok\n",
      "\n",
      "----------------------------------------------------------------------\n",
      "Ran 1 test in 0.007s\n",
      "\n",
      "OK\n"
     ]
    }
   ],
   "source": [
    "%run -i tests.py \"part C\""
   ]
  },
  {
   "cell_type": "markdown",
   "metadata": {
    "nbpresent": {
     "id": "79924168-7167-4b5c-a256-33f681d6969d"
    }
   },
   "source": [
    "**Part D**: Finally, implement the `staged_score` method to return an array of prediction accuracies after each iteration of the AdaBoost algorithm.  That is, the staged score array ${\\bf s}$ is defined such that ${\\bf s}_\\ell$ is the prediction accuracy using only the first $\\ell$ weak learners.  This function is primarily used as a diagnostic tool for analyzing the performance of your classifier during the training process.  \n",
    "\n",
    "**Note**: This method can be implemented in a very efficient or very **in**efficient matter.  Be sure to think about this a bit before diving in. \n",
    "\n",
    "\n",
    "When you think you're done, run the following unit tests. "
   ]
  },
  {
   "cell_type": "code",
   "execution_count": 9,
   "metadata": {
    "ExecuteTime": {
     "end_time": "2018-04-02T09:58:36.952096Z",
     "start_time": "2018-04-02T09:58:36.944919Z"
    },
    "nbpresent": {
     "id": "816dad1f-4bf6-43c8-ac6e-58edfcb77874"
    }
   },
   "outputs": [
    {
     "name": "stderr",
     "output_type": "stream",
     "text": [
      "test_staged_score (__main__.TestBoost) ... ok\n",
      "\n",
      "----------------------------------------------------------------------\n",
      "Ran 1 test in 0.007s\n",
      "\n",
      "OK\n"
     ]
    }
   ],
   "source": [
    "%run -i tests.py \"part D\""
   ]
  },
  {
   "cell_type": "markdown",
   "metadata": {
    "nbpresent": {
     "id": "f289ece3-6c6f-49e9-820b-af81eb0a3c00"
    }
   },
   "source": [
    "### [10 points] Problem 3: AdaBoost for Handwritten Digit Recognition \n",
    "***\n",
    "\n",
    "Use your AdaBoost code with Sklearn's DecisionTreeClassifier as the base learner to distinguish $3$'s from $8$'s. \n",
    "Run $n=500$ boosting iterations with trees of depths 1, 2, and 3 (go deeper if you like) as the weak learner. For each weak learner, plot the training and validation error per boosting iteration (on the same set of axes). Compare and contrast the different weak learners. Which works the best? Do you see signs of overfitting? Do any of classifiers achieve nearly 100% accuracy on the training data? What happens to the accuracy on the validation data on further iterations?"
   ]
  },
  {
   "cell_type": "code",
   "execution_count": 10,
   "metadata": {},
   "outputs": [
    {
     "data": {
      "image/png": "[encoded data removed]",
      "text/plain": [
       "<matplotlib.figure.Figure at 0x11e0e9978>"
      ]
     },
     "metadata": {},
     "output_type": "display_data"
    },
    {
     "name": "stdout",
     "output_type": "stream",
     "text": [
      "Iteration where training error = 0: 241\n"
     ]
    }
   ],
   "source": [
    "adaboost1 = AdaBoost(n_learners=500, base=DecisionTreeClassifier(max_depth=1))\n",
    "adaboost1.fit(data.X_train, data.y_train)\n",
    "y_plot1_1 = adaboost1.staged_score(data.X_train, data.y_train)\n",
    "y_plot1_2 = adaboost1.staged_score(data.X_valid, data.y_valid)\n",
    "x_plot = [i for i in range(500)]\n",
    "y_plot1_1 = 1 - y_plot1_1\n",
    "y_plot1_2 = 1 - y_plot1_2\n",
    "plt.title(\"Depth = 1\")\n",
    "plt.xlabel(\"Boosting Iterations\")\n",
    "plt.ylabel(\"Error\")\n",
    "plt.plot(x_plot, y_plot1_1, label='train')\n",
    "plt.plot(x_plot, y_plot1_2, label='valid')\n",
    "plt.legend()\n",
    "plt.show()\n",
    "print (\"Iteration where training error = 0:\", np.where(y_plot1_1==0)[0][0])"
   ]
  },
  {
   "cell_type": "code",
   "execution_count": 11,
   "metadata": {},
   "outputs": [
    {
     "data": {
      "image/png": "[encoded data removed]",
      "text/plain": [
       "<matplotlib.figure.Figure at 0x11e0e9860>"
      ]
     },
     "metadata": {},
     "output_type": "display_data"
    },
    {
     "name": "stdout",
     "output_type": "stream",
     "text": [
      "Iteration where training error = 0: 23\n"
     ]
    }
   ],
   "source": [
    "adaboost2 = AdaBoost(n_learners=500, base=DecisionTreeClassifier(max_depth=2))\n",
    "adaboost2.fit(data.X_train, data.y_train)\n",
    "y_plot2_1 = adaboost2.staged_score(data.X_train, data.y_train)\n",
    "y_plot2_2 = adaboost2.staged_score(data.X_valid, data.y_valid)\n",
    "y_plot2_1 = 1 - y_plot2_1\n",
    "y_plot2_2 = 1 - y_plot2_2\n",
    "plt.title(\"Depth = 2\")\n",
    "plt.xlabel(\"Boosting Iterations\")\n",
    "plt.ylabel(\"Error\")\n",
    "plt.plot(x_plot, y_plot2_1, label='train')\n",
    "plt.plot(x_plot, y_plot2_2, label='valid')\n",
    "plt.legend()\n",
    "plt.show()\n",
    "print (\"Iteration where training error = 0:\", np.where(y_plot2_1==0)[0][0])"
   ]
  },
  {
   "cell_type": "code",
   "execution_count": 12,
   "metadata": {},
   "outputs": [
    {
     "data": {
      "image/png": "[encoded data removed]",
      "text/plain": [
       "<matplotlib.figure.Figure at 0x12162cd30>"
      ]
     },
     "metadata": {},
     "output_type": "display_data"
    },
    {
     "name": "stdout",
     "output_type": "stream",
     "text": [
      "Iteration where training error = 0: 12\n"
     ]
    }
   ],
   "source": [
    "adaboost3 = AdaBoost(n_learners=500, base=DecisionTreeClassifier(max_depth=3))\n",
    "adaboost3.fit(data.X_train, data.y_train)\n",
    "y_plot3_1 = adaboost3.staged_score(data.X_train, data.y_train)\n",
    "y_plot3_2 = adaboost3.staged_score(data.X_valid, data.y_valid)\n",
    "y_plot3_1 = 1 - y_plot3_1\n",
    "y_plot3_2 = 1 - y_plot3_2\n",
    "plt.title(\"Depth = 3\")\n",
    "plt.xlabel(\"Boosting Iterations\")\n",
    "plt.ylabel(\"Error\")\n",
    "plt.plot(x_plot, y_plot3_1, label='train')\n",
    "plt.plot(x_plot, y_plot3_2, label='valid')\n",
    "plt.legend()\n",
    "plt.show()\n",
    "print (\"Iteration where training error = 0:\", np.where(y_plot3_1==0)[0][0])"
   ]
  },
  {
   "cell_type": "markdown",
   "metadata": {},
   "source": [
    "Which works the best? Do you see signs of overfitting? Do any of classifiers achieve nearly 100% accuracy on the training data? What happens to the accuracy on the validation data on further iterations?"
   ]
  },
  {
   "cell_type": "markdown",
   "metadata": {},
   "source": [
    "### Solution:\n",
    "\n",
    "- As seen from the graphs, the AdaBoost with weak learners of depth 3 achieve 100% accuracy on the training data the fastest.\n",
    "- This proves that as the weak learners become more complex, AdaBoost will fit the training data better and reach 100% accuracy faster.\n",
    "- All of the classifiers achieve nearly 100% accuracy on the training data.\n",
    "- As the training data fits better, AdaBoost will start to overfit. This can be seen by running the model again with depth of weak learners 10, with a significantly larger validation error."
   ]
  },
  {
   "cell_type": "code",
   "execution_count": 13,
   "metadata": {},
   "outputs": [
    {
     "data": {
      "image/png": "[encoded data removed]",
      "text/plain": [
       "<matplotlib.figure.Figure at 0x121544278>"
      ]
     },
     "metadata": {},
     "output_type": "display_data"
    },
    {
     "name": "stdout",
     "output_type": "stream",
     "text": [
      "Iteration where training error = 0: 2\n"
     ]
    }
   ],
   "source": [
    "adaboost10 = AdaBoost(n_learners=500, base=DecisionTreeClassifier(max_depth=10))\n",
    "adaboost10.fit(data.X_train, data.y_train)\n",
    "y_plot10_1 = adaboost10.staged_score(data.X_train, data.y_train)\n",
    "y_plot10_2 = adaboost10.staged_score(data.X_valid, data.y_valid)\n",
    "y_plot10_1 = 1 - y_plot10_1\n",
    "y_plot10_2 = 1 - y_plot10_2\n",
    "plt.title(\"Depth = 10\")\n",
    "plt.xlabel(\"Boosting Iterations\")\n",
    "plt.ylabel(\"Error\")\n",
    "plt.plot(x_plot, y_plot10_1, label='train')\n",
    "plt.plot(x_plot, y_plot10_2, label='valid')\n",
    "plt.legend()\n",
    "plt.show()\n",
    "print (\"Iteration where training error = 0:\", np.where(y_plot10_1==0)[0][0])"
   ]
  },
  {
   "cell_type": "markdown",
   "metadata": {
    "nbpresent": {
     "id": "38ff6421-230b-4c29-86b3-73143794f60f"
    }
   },
   "source": [
    "### [15 points] Problem 4: AdaBoost as a Margin-Maximizing Model \n",
    "***\n",
    "\n",
    "Despite the fact that we're making our model more complex with the addition of each weak learner, AdaBoost does not typically overfit the training data. The reason for this is that the model becomes more _confident_ with each boosting iteration. This _confidence_ can be interpreted mathematically as a margin. Recall that after $K$ iterations the algorithm terminates with the classifier \n",
    "\n",
    "$$\n",
    "H({\\bf x}) = \\textrm{sign}\\left[\\displaystyle\\sum_{k=1}^K\\alpha_k h_k({\\bf x}) \\right]\n",
    "$$\n",
    "\n",
    "Similarly, we can define the intermediate classifier $H_\\ell$ by \n",
    "\n",
    "$$\n",
    "H_\\ell({\\bf x}) = \\textrm{sign}\\left[\\displaystyle\\sum_{k=1}^\\ell\\alpha_k h_k({\\bf x}) \\right]\n",
    "$$\n",
    "\n",
    "where $\\ell \\leq K$. Note that in either case the model returns predictions of the form $y \\in \\{-1, 1\\}$ which does not give us any indication of the model's confidence in a prediction. Define the normalized coefficients $\\hat{\\alpha}_k$ as follows: \n",
    "\n",
    "$$\n",
    "\\hat{\\alpha}_k = \\dfrac{\\alpha_k}{\\sum_{t=1}^K \\alpha_k}\n",
    "$$\n",
    "\n",
    "Define the margin of a training example ${\\bf x}$ after $\\ell$ iterations as the sum of the normalized coefficients of weak learners that vote correctly minus the sum of the normalized coefficients of the weak learners that vote incorrectly: \n",
    "\n",
    "$$\n",
    "\\textrm{margin}_\\ell ({\\bf x}) = \\sum_{k=1:~h_k({\\bf x}) = y}^\\ell \\hat{\\alpha}_k - \\sum_{k=1:~h_k({\\bf x}) \\neq y}^\\ell \\hat{\\alpha}_k \n",
    "$$\n",
    "\n",
    "**Part A**: Briefly explain mathematically how $\\textrm{margin}_\\ell({\\bf x})$ can be interpreted as a margin.  **Hint**: You'll want to think back on what we meant by a _margin_ in our discussion of Support Vector Machines. "
   ]
  },
  {
   "cell_type": "markdown",
   "metadata": {},
   "source": [
    "### Solution:\n",
    "\n",
    "- As seen from the formula, a margin is the measure of confidence of predicting a sample at an iteration of `AdaBoost`.  \n",
    "\n",
    "\n",
    "- As in Support Vector Machines, a margin (M) is the distance from the decision boundary. For a positive point, if the distance from the decision boundary is ${\\ge}$ ${1}$ ${\\bf M}$, the point is strongly classified as positive. Similarly is the case for negative sample. ${\\it x * \\bf M \\ge}$ 0 would show the point to be classified positive with confidence ${\\it x}$, and ${\\it x * \\bf M \\le}$ 0 would show the point to be classified positive with confidence ${\\it x}$ i.e., the point was incorrectly classified.  \n",
    "\n",
    "\n",
    "- In this case, margin$_\\ell ({\\bf x})$ can be interpreted in the same way for a positive point:\n",
    "    - margin$_\\ell ({\\bf x}) > 0$ shows that the point is classified correctly with a confidence of margin$_\\ell ({\\bf x})$.\n",
    "    - margin$_\\ell ({\\bf x}) = 0$ shows that the point cannot be classified.\n",
    "    - margin$_\\ell ({\\bf x}) < 0$ shows that the point is classified incorrectly with a confidence of margin$_\\ell ({\\bf x})$.\n"
   ]
  },
  {
   "cell_type": "markdown",
   "metadata": {
    "nbpresent": {
     "id": "8902e8bb-3154-490d-b95a-0fc03938e9fe"
    }
   },
   "source": [
    "**Part B**: Complete the `staged_margin` method in the `AdaBoost` class above so that it computes the margin for a single training example ${\\bf x}$ after each boosting iteration. "
   ]
  },
  {
   "cell_type": "code",
   "execution_count": 14,
   "metadata": {
    "nbpresent": {
     "id": "22f81d36-762f-46ec-abec-91d3d3683684"
    },
    "scrolled": false
   },
   "outputs": [
    {
     "name": "stdout",
     "output_type": "stream",
     "text": [
      "AdaBoost on Test data:\n",
      "[-0.2122273   0.11321117  0.57554541]\n",
      "\n",
      "AdaBoost on MNIST data:\n",
      "[-0.24473593 -0.11826104 -0.23210848 -0.31942009 -0.2363023  -0.16206409\n",
      " -0.24391918 -0.17362398 -0.11120612 -0.05550014]\n"
     ]
    }
   ],
   "source": [
    "print (\"AdaBoost on Test data:\")\n",
    "adaboost = AdaBoost(n_learners=3, base=DecisionTreeClassifier(max_depth=1), random_state=1234)\n",
    "X_train = np.array([[6,9.5],[4,8.5],[9,8.75],[8,8.0],[3,7],[1,6.5],[5,6.5],[1.5,2.5],[2,1],[9,2]])\n",
    "y_train = np.array([1,1,-1,1,-1,1,-1,1,-1,-1])\n",
    "adaboost.fit(X_train, y_train)\n",
    "print (adaboost.staged_margin(X_train[0], y_train[0]))\n",
    "\n",
    "print (\"\\nAdaBoost on MNIST data:\")\n",
    "adaboost = AdaBoost(n_learners=10, base=DecisionTreeClassifier(max_depth=1), random_state=1234)\n",
    "adaboost.fit(data.X_train, data.y_train)\n",
    "print (adaboost.staged_margin(data.X_train[0], data.y_train[0]))"
   ]
  },
  {
   "cell_type": "markdown",
   "metadata": {
    "nbpresent": {
     "id": "56fda34f-9360-49b5-a54a-203c964da04c"
    }
   },
   "source": [
    "**Part C**: Find four **training** examples from the MNIST that meet the following criteria: \n",
    "\n",
    "- one $3$ that AdaBoost can classify easily  \n",
    "- one $8$ that AdaBoost can classify easily  \n",
    "- one $3$ that AdaBoost has difficulty with \n",
    "- one $8$ that AdaBoost has difficulty with \n",
    "\n",
    "Use the `view_digit` function given below to display the four examples that you found. \n",
    "\n",
    "**Advice**: Since AdaBoost will likely classify **all** training examples correctly given enough boosting iterations, you might try fitting an AdaBoost classifier with just a handful of boosting iterations and use it to identify examples of each desired type. "
   ]
  },
  {
   "cell_type": "code",
   "execution_count": 15,
   "metadata": {
    "ExecuteTime": {
     "end_time": "2018-04-02T09:59:01.257421Z",
     "start_time": "2018-04-02T09:59:01.068539Z"
    },
    "nbpresent": {
     "id": "c9bdac16-03bd-44df-9c64-bb66b7be4c10"
    }
   },
   "outputs": [],
   "source": [
    "def view_digit(example, label=None):\n",
    "    if label: print(\"true label: {:d}\".format(label))\n",
    "    plt.imshow(example.reshape(21,21), cmap='gray');"
   ]
  },
  {
   "cell_type": "code",
   "execution_count": 16,
   "metadata": {
    "scrolled": false
   },
   "outputs": [],
   "source": [
    "threes = []\n",
    "threes_index = []\n",
    "eights = []\n",
    "eights_index = []\n",
    "\n",
    "for i in range(len(data.y_train)):\n",
    "    if data.y_train[i] == 1: # 8\n",
    "        eights.append(max(adaboost.staged_margin(data.X_train[i], data.y_train[i])))\n",
    "        eights_index.append(i)\n",
    "    else: # 3\n",
    "        threes.append(max(adaboost.staged_margin(data.X_train[i], data.y_train[i])))\n",
    "        threes_index.append(i)"
   ]
  },
  {
   "cell_type": "code",
   "execution_count": 17,
   "metadata": {
    "scrolled": true
   },
   "outputs": [
    {
     "name": "stdout",
     "output_type": "stream",
     "text": [
      "Margin: 1.0 \n",
      "AdaBoost predict: -1\n",
      "true label: -1\n"
     ]
    },
    {
     "data": {
      "image/png": "[encoded data removed]",
      "text/plain": [
       "<matplotlib.figure.Figure at 0x11e0dd8d0>"
      ]
     },
     "metadata": {},
     "output_type": "display_data"
    }
   ],
   "source": [
    "easy_three = sorted(threes)[-1]\n",
    "easy_three_index = threes_index[threes.index(easy_three)]\n",
    "print (\"Margin:\", easy_three, \"\\nAdaBoost predict:\", int(adaboost.predict([data.X_train[easy_three_index]])[0]))\n",
    "view_digit(data.X_train[easy_three_index], data.y_train[easy_three_index])"
   ]
  },
  {
   "cell_type": "code",
   "execution_count": 18,
   "metadata": {},
   "outputs": [
    {
     "name": "stdout",
     "output_type": "stream",
     "text": [
      "Margin: -0.244735925049 \n",
      "AdaBoost predict: 1\n",
      "true label: -1\n"
     ]
    },
    {
     "data": {
      "image/png": "[encoded data removed]",
      "text/plain": [
       "<matplotlib.figure.Figure at 0x121959cf8>"
      ]
     },
     "metadata": {},
     "output_type": "display_data"
    }
   ],
   "source": [
    "diff_three = sorted(threes)[0]\n",
    "diff_three_index = threes_index[threes.index(diff_three)]\n",
    "print (\"Margin:\", diff_three, \"\\nAdaBoost predict:\", int(adaboost.predict([data.X_train[diff_three_index]])[0]))\n",
    "view_digit(data.X_train[diff_three_index], data.y_train[diff_three_index])"
   ]
  },
  {
   "cell_type": "code",
   "execution_count": 19,
   "metadata": {},
   "outputs": [
    {
     "name": "stdout",
     "output_type": "stream",
     "text": [
      "Margin: 0.944294019917 \n",
      "AdaBoost predict: 1\n",
      "true label: 1\n"
     ]
    },
    {
     "data": {
      "image/png": "[encoded data removed]",
      "text/plain": [
       "<matplotlib.figure.Figure at 0x12178b668>"
      ]
     },
     "metadata": {},
     "output_type": "display_data"
    }
   ],
   "source": [
    "easy_eight = sorted(eights)[-1]\n",
    "easy_eight_index = eights_index[eights.index(easy_eight)]\n",
    "print (\"Margin:\", easy_eight, \"\\nAdaBoost predict:\", int(adaboost.predict([data.X_train[easy_eight_index]])[0]))\n",
    "view_digit(data.X_train[easy_eight_index], data.y_train[easy_eight_index])"
   ]
  },
  {
   "cell_type": "code",
   "execution_count": 20,
   "metadata": {},
   "outputs": [
    {
     "name": "stdout",
     "output_type": "stream",
     "text": [
      "Margin: -0.244735925049 \n",
      "AdaBoost predict: -1\n",
      "true label: 1\n"
     ]
    },
    {
     "data": {
      "image/png": "[encoded data removed]",
      "text/plain": [
       "<matplotlib.figure.Figure at 0x121566ef0>"
      ]
     },
     "metadata": {},
     "output_type": "display_data"
    }
   ],
   "source": [
    "diff_eight = sorted(eights)[0]\n",
    "diff_eight_index = eights_index[eights.index(diff_eight)]\n",
    "print (\"Margin:\", diff_eight, \"\\nAdaBoost predict:\", int(adaboost.predict([data.X_train[diff_eight_index]])[0]))\n",
    "view_digit(data.X_train[diff_eight_index], data.y_train[diff_eight_index])"
   ]
  },
  {
   "cell_type": "markdown",
   "metadata": {
    "nbpresent": {
     "id": "8650a966-c084-481d-b9be-7a9062398044"
    }
   },
   "source": [
    "**Part D**: Using an AdaBoost classifier with at least $K=200$ depth-1 decision trees as the weak learners, plot the staged margin for each of the four examples that you found in **Part C** on the same set of axes. (Be sure to include a legend so we can tell which staged margin corresponds to which example).  Explain your results in terms of the margin of the classifier on each training examples.  More broadly, how the margin-maximizing property might allow AdaBoost to continue improving generalization even after the error on the training set reaches zero.  \n"
   ]
  },
  {
   "cell_type": "code",
   "execution_count": 21,
   "metadata": {
    "scrolled": true
   },
   "outputs": [
    {
     "data": {
      "image/png": "[encoded data removed]",
      "text/plain": [
       "<matplotlib.figure.Figure at 0x121905ba8>"
      ]
     },
     "metadata": {},
     "output_type": "display_data"
    }
   ],
   "source": [
    "adaboost = AdaBoost(n_learners=200, base=DecisionTreeClassifier(max_depth=1), random_state=1234)\n",
    "adaboost.fit(data.X_train, data.y_train)\n",
    "\n",
    "easy_three_margin = adaboost.staged_margin(data.X_train[easy_three_index], -1)\n",
    "diff_three_margin = adaboost.staged_margin(data.X_train[diff_three_index], -1)\n",
    "easy_eight_margin = adaboost.staged_margin(data.X_train[easy_eight_index], 1)\n",
    "diff_eight_margin = adaboost.staged_margin(data.X_train[diff_eight_index], 1)\n",
    "x_plot = [i for i in range(200)]\n",
    "\n",
    "plt.xlabel('Iterations')\n",
    "plt.ylabel('Staged Margin')\n",
    "plt.plot(x_plot, easy_eight_margin, label='Easy 8')\n",
    "plt.plot(x_plot, easy_three_margin, label='Easy 3')\n",
    "plt.plot(x_plot, diff_eight_margin, label='Difficult 8')\n",
    "plt.plot(x_plot, diff_three_margin, label='Difficult 3')\n",
    "\n",
    "plt.legend()\n",
    "plt.show()"
   ]
  },
  {
   "cell_type": "markdown",
   "metadata": {},
   "source": [
    "### Solution:\n",
    "\n",
    "- The greater the margin, the more confidence in the classification of the point.\n",
    "\n",
    "\n",
    "- In the graph, with each stage of AdaBoost, the margin increases. The easy 3 and 8 start out with higher values of alpha, as they can be predicted with great confidence, whereas the difficult 3 and 8 have low values of alpha in the beginning.\n",
    "\n",
    "\n",
    "- Therefore, $\\sum_{k=1:~h_k({\\bf x}) \\neq y}^\\ell \\hat{\\alpha}_k$ changes with each iteration of AdaBoost. With each iteration, the margin and therefore the confidence increases as each new alpha is added. This is how AdaBoost improves on the generalization error even if error on the training set reaches 0."
   ]
  }
 ],
 "metadata": {
  "anaconda-cloud": {},
  "kernelspec": {
   "display_name": "Python [conda env:anaconda]",
   "language": "python",
   "name": "conda-env-anaconda-py"
  },
  "language_info": {
   "codemirror_mode": {
    "name": "ipython",
    "version": 3
   },
   "file_extension": ".py",
   "mimetype": "text/x-python",
   "name": "python",
   "nbconvert_exporter": "python",
   "pygments_lexer": "ipython3",
   "version": "3.6.5"
  }
 },
 "nbformat": 4,
 "nbformat_minor": 2
}
