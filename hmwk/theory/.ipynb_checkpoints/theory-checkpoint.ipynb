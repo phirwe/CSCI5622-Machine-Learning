{
 "cells": [
  {
   "cell_type": "markdown",
   "metadata": {},
   "source": [
    "# Learning Theory Homework \n",
    "***\n",
    "**Name**: Poorwa Hirve (pohi2375)\n",
    "***\n",
    "\n",
    "This assignment is due on Moodle by **5pm on Friday March 9th**. Submit only this Jupyter notebook to Moodle. Do not compress it using tar, rar, zip, etc. Your solutions to analysis questions should be done in Markdown directly below the associated question.  Remember that you are encouraged to discuss the problems with your instructors and classmates, but **you must write all code and solutions on your own**.  For a refresher on the course **Collaboration Policy** click [here](https://github.com/chrisketelsen/CSCI5622-Machine-Learning/blob/master/resources/syllabus.md#collaboration-policy)\n",
    "\n"
   ]
  },
  {
   "cell_type": "markdown",
   "metadata": {},
   "source": [
    "## Overview \n",
    "***\n",
    "\n",
    "In this assignment you will explore the concepts of PAC learnability and VC dimension. \n"
   ]
  },
  {
   "cell_type": "markdown",
   "metadata": {},
   "source": [
    "### [15 points] Problem 1: \n",
    "***\n",
    "\n",
    "Consider the class C of concepts defined by triangles with **distinct** vertices of the form $(i, j)$ where $i$ and $j$ are integers in the interval $[0,99]$. A concept c labels points on the interior and boundary of the associated triangle as positive and points exterior to the triangle as negative.\n",
    "\n",
    "**Note**: To make life easier, we'll allow degenerate triangles in $C$. That is, triangles where the vertices are collinear. The following image depicts an example of a nondegenerate and a degenerate triangle."
   ]
  },
  {
   "cell_type": "markdown",
   "metadata": {},
   "source": [
    "<img src=\"figs/triangles.png\" width=400 height=50>  "
   ]
  },
  {
   "cell_type": "markdown",
   "metadata": {},
   "source": [
    "**Part A**: Suppose we have an algorithm that produces a consistent $h$ from the hypothesis class $H = C$. Give a bound on the number of training examples sufficient to assure that for any target concept $c$ in $C$, our algorithm will, with probability $1-\\delta$, output a hypothesis $h$ with generalization error at most $\\epsilon$."
   ]
  },
  {
   "cell_type": "markdown",
   "metadata": {
    "collapsed": true
   },
   "source": [
    "Finite Hypothesis: 100C1*99C1*98C1"
   ]
  },
  {
   "cell_type": "markdown",
   "metadata": {},
   "source": [
    "**Part B**: Based on your bound in **Part A**, determine the minimum number of training examples necessary such that for any target concept $c$ in $C$, our algorithm will, with probability $0.95$, output a hypothesis $h$ with generalization error at most $0.15$.  "
   ]
  },
  {
   "cell_type": "markdown",
   "metadata": {
    "collapsed": true
   },
   "source": [
    "193"
   ]
  },
  {
   "cell_type": "markdown",
   "metadata": {},
   "source": [
    "### [15 points] Problem 2: \n",
    "***\n",
    "\n",
    "Consider feature vectors that live in two-dimensional space and the class of hypotheses defined by circles **centered at the origin**. There are two different kinds of hypotheses $h$ in this class. One type of hypthesis classifies points as positive if they lie on the boundary or **interior** of the circle, and negative otherwise. The other type of hypothesis classifies points as positive if they lie on the boundary or **exterior** of the circle, and negative otherwise. State and prove (rigorously) the VC dimension of this family of classifiers."
   ]
  },
  {
   "cell_type": "markdown",
   "metadata": {
    "collapsed": true
   },
   "source": [
    "VC dim = 2"
   ]
  },
  {
   "cell_type": "markdown",
   "metadata": {},
   "source": [
    "### [20 points] Problem 3: Empirical Verification of PAC Bounds for Axis-Aligned Rectangles \n",
    "***\n",
    "\n",
    "In the in-class notebook associated with PAC Learnability, we proved a PAC bound for the class of concepts $C$ comprised of axis-aligned rectangles living in $\\mathbb{R}^2$ of the form $(a \\leq x \\leq b) \\wedge (c \\leq y \\leq d)$ where $a, b, c, d$ are real numbers. Specifically, we proved that with probability $1-\\delta$, any consistent learner could learn a hypothesis $h$ in $H = C$ with generalization error less than $\\epsilon$ provided that the number of training examples satisfied \n",
    "\n",
    "$$\n",
    "m > \\frac{4}{\\epsilon}\\log\\frac{4}{\\delta}\n",
    "$$\n",
    "\n",
    "In this problem you will empirically verify this bound for the restricted concept class $C$ where the rectangles are defined by $(a \\leq x \\leq b) \\wedge (c \\leq y \\leq d)$ where $a, b, c, d$ are real numbers satisfying $0 \\leq a \\leq b \\leq 100$ and $0 \\leq c \\leq d \\leq 100$. \n",
    "\n",
    "**Part A**: The following is a general outline of how you should accomplish this, but it is up to you how you organize your code. "
   ]
  },
  {
   "cell_type": "markdown",
   "metadata": {},
   "source": [
    "- Write some code that randomly generates a concept rectangle $c$. \n",
    "\n",
    "\n",
    "\n",
    "- Write some code that, given feature vectors of length-2, labels them according to some rectangle (that is, labels a point positive if the point is on the boundary or interior of the rectangle, and negative otherwise).  \n",
    "\n",
    "\n",
    "\n",
    "- Write some code that, given training examples of length-2, and labeled according to a concept $c$, returns a consistent hypothesis rectangle $h$. \n",
    "\n",
    "\n",
    "\n",
    "- Write some code that generates a training set of size $m$, labels them according to a random concept $c$, learns a consistent hypothesis $h$, and then approximates the generalization error by predicting on $1000$ new examples from the same distribution as the training data. \n",
    "\n",
    "\n",
    "- Write some code that computes approximate generalization errors for $100$ independent concepts $c$ and associated training sets of size $m$, and returns the worst-case generalization error at the confidence level $1-\\delta$.  One way to do this in the case that say $\\delta = 0.05$, is to report the $95^\\textrm{th}$ percentile of the $100$ samples of the generalization error. We can then say that, in our simulation, $100(1-\\delta)\\%$ of our observed generalization errors were less than our computed value. (**Bonus**: If your code is efficient, try increasing the number of runs in the simulation to $500$. This should give you a better approximation of the generalization error.) "
   ]
  },
  {
   "cell_type": "code",
   "execution_count": 189,
   "metadata": {
    "collapsed": false
   },
   "outputs": [],
   "source": [
    "# choose a randomly, choose b randomly s.t. a <= b and they are real numbers\n",
    "# lly c and d, not equal to a or b\n",
    "# find equation of lines, find if feature vector lies on line or inside a-b >=, b-c >=, c-d <=, d-a <=\n",
    "# generate training hypothesis\n",
    "# approximate generalization error\n",
    "import numpy as np\n",
    "import matplotlib.pylab as plt\n",
    "import matplotlib.patches as patches\n",
    "import random\n",
    "%matplotlib inline \n",
    "\n",
    "\n",
    "\n",
    "\n",
    "def generate_concept():\n",
    "    a = random.uniform(0.0, 100.0)\n",
    "    b = -1\n",
    "    while True:\n",
    "        b = random.uniform(0.0, 100.0)\n",
    "        if b >= a:\n",
    "            break\n",
    "    c = -1\n",
    "\n",
    "    c = random.uniform(0.0, 100.0)\n",
    "\n",
    "    d = -1\n",
    "    while True:\n",
    "        d = random.uniform(0.0, 100.0)\n",
    "        if d >= c:\n",
    "            break\n",
    "    \n",
    "    x1 = random.uniform(a, b)\n",
    "    x2 = -1\n",
    "    while True:\n",
    "        x2 = random.uniform(a, b)\n",
    "        if x2 != x1:\n",
    "            break\n",
    "    y1 = random.uniform(c, d)\n",
    "    y2 = -1\n",
    "    while True:\n",
    "        y2 = random.uniform(c, d)\n",
    "        if y2 != y1:\n",
    "            break\n",
    "    \n",
    "    C = [x1, y1, x2, y2]\n",
    "    return C\n",
    "\n",
    "def get_label(C, vector):\n",
    "    x = vector[0]\n",
    "    y = vector[1]\n",
    "    x1 = C[0]\n",
    "    y1 = C[1]\n",
    "    x2 = C[2]\n",
    "    y2 = C[3]\n",
    "    \n",
    "    start_x = min([x1, x2])\n",
    "    end_x = max([x1, x2])\n",
    "    start_y = min([y1, y2])\n",
    "    end_y = max([y1, y2])\n",
    "    width = abs(y1 - y2)\n",
    "    length = abs(x1 - x2)\n",
    "    xflag = False\n",
    "    yflag = False\n",
    "    if x >= start_x and x <= end_x:\n",
    "        xflag = True\n",
    "    if y >= start_y and y <= end_y:\n",
    "        yflag = True\n",
    "\n",
    "    if xflag and yflag == True:\n",
    "        return 1\n",
    "    else:\n",
    "        return -1\n",
    "    \n",
    "def get_hypothesis(train_vectors, C):\n",
    "    H = [-1,-1,-1,-1]\n",
    "\n",
    "    x_points = []\n",
    "    y_points = []\n",
    "    for i in range(len(train_vectors)):\n",
    "        if get_label(C, train_vectors[i]) == 1:\n",
    "            x_points.append(train_vectors[i][0])\n",
    "            y_points.append(train_vectors[i][1])\n",
    "            \n",
    "    H[0] = min(x_points)\n",
    "    H[1] = min(y_points)\n",
    "    H[2] = max(x_points)\n",
    "    H[3] = max(y_points)\n",
    "    \n",
    "    return H\n",
    "\n",
    "\n",
    "def get_generalization_error(C, m):\n",
    "    d = 4\n",
    "    train_vectors = []\n",
    "    H = [-1,-1,-1,-1]\n",
    "    import random\n",
    "    for i in range(m):\n",
    "        x = random.uniform(0.0, 100.0)\n",
    "        y = random.uniform(0.0, 100.0)\n",
    "        H = get_hypothesis([x, y], H, C)\n",
    "        train_vectors.append([x, y])\n",
    "    from random import shuffle\n",
    "    shuffle(train_vectors)\n",
    "    err_count = 0\n",
    "    for i in range(1000):\n",
    "        x = train_vectors[i][0]\n",
    "        y = train_vectors[i][1]\n",
    "        true_label = get_label([x, y], C)\n",
    "        pred_label = get_label([x, y], H)\n",
    "        if true_label != pred_label:\n",
    "            err_count += 1\n",
    "    \n",
    "    return (err_count / 1000)\n",
    "\n",
    "def plot_rectangle(C):\n",
    "    x1 = C[0]\n",
    "    y1 = C[1]\n",
    "    x2 = C[2]\n",
    "    y2 = C[3]\n",
    "    \n",
    "    start_x = min([x1, x2])\n",
    "    end_x = max([x1, x2])\n",
    "    start_y = min([y1, y2])\n",
    "    end_y = max([y1, y2])\n",
    "    length = abs(y1 - y2)\n",
    "    width = abs(x1 - x2)\n",
    "\n",
    "    # fig1 = plt.figure()\n",
    "    # ax1 = fig1.add_subplot(111, aspect='equal')\n",
    "    # ax1.add_patch(\n",
    "    #     patches.Rectangle((0, 0), width, height))\n",
    "    # Create figure and axes\n",
    "    fig,ax = plt.subplots(1)\n",
    "\n",
    "    # Create a Rectangle patch\n",
    "    rect = patches.Rectangle((start_x, start_y),width,length,linewidth=2,edgecolor='r',facecolor='none')\n",
    "\n",
    "    # Add the patch to the Axes\n",
    "\n",
    "    ax.add_patch(rect)\n",
    "    ax.set_xlim(0, 100)\n",
    "    ax.set_ylim(0, 100)\n",
    "    plt.show()\n",
    "\n"
   ]
  },
  {
   "cell_type": "code",
   "execution_count": null,
   "metadata": {
    "collapsed": false
   },
   "outputs": [],
   "source": []
  },
  {
   "cell_type": "code",
   "execution_count": 190,
   "metadata": {
    "collapsed": false
   },
   "outputs": [],
   "source": [
    "SAMPLE_DATA = [[53,58], [64,73], [76, 31], [56, 58], [97,13], [81, 56],\n",
    "               [70, 64], [69, 72], [51, 51], [66, 53], [63, 61], [78, 52]]\n",
    "labels = []\n",
    "for i in range(len(SAMPLE_DATA)):\n",
    "    labels.append(get_label(C, SAMPLE_DATA[i]))\n",
    "    if labels[i] == 1:\n",
    "        print (SAMPLE_DATA[i])\n"
   ]
  },
  {
   "cell_type": "code",
   "execution_count": 191,
   "metadata": {
    "collapsed": true
   },
   "outputs": [],
   "source": [
    "def plot_concept_points(C, labels, vectors):\n",
    "    x1 = C[0]\n",
    "    y1 = C[1]\n",
    "    x2 = C[2]\n",
    "    y2 = C[3]\n",
    "    \n",
    "    start_x = min([x1, x2])\n",
    "    end_x = max([x1, x2])\n",
    "    start_y = min([y1, y2])\n",
    "    end_y = max([y1, y2])\n",
    "    length = abs(y1 - y2)\n",
    "    width = abs(x1 - x2)\n",
    "\n",
    "    # fig1 = plt.figure()\n",
    "    # ax1 = fig1.add_subplot(111, aspect='equal')\n",
    "    # ax1.add_patch(\n",
    "    #     patches.Rectangle((0, 0), width, height))\n",
    "    # Create figure and axes\n",
    "    fig,ax = plt.subplots(1)\n",
    "\n",
    "    # Create a Rectangle patch\n",
    "    rect = patches.Rectangle((start_x, start_y),width,length,linewidth=2,edgecolor='k',facecolor='none')\n",
    "\n",
    "    # Add the patch to the Axes\n",
    "\n",
    "    ax.add_patch(rect)\n",
    "    \n",
    "    x_plus_plot = []\n",
    "    y_plus_plot = []\n",
    "    \n",
    "    x_minus_plot = []\n",
    "    y_minus_plot = []\n",
    "    \n",
    "    for i in range(len(vectors)):\n",
    "        if labels[i] == 1:\n",
    "            x_plus_plot.append(vectors[i][0])\n",
    "            y_plus_plot.append(vectors[i][1])\n",
    "        else:\n",
    "            x_minus_plot.append(vectors[i][0])\n",
    "            y_minus_plot.append(vectors[i][1])\n",
    "\n",
    "    plt.plot(x_plus_plot, y_plus_plot, 'r+')\n",
    "#     plt.plot([56,66,78], [58,53,52], 'ko')\n",
    "    plt.plot(x_minus_plot, y_minus_plot, 'b_')\n",
    "    ax.set_xlim(0, 100)\n",
    "    ax.set_ylim(0, 100)\n",
    "    plt.show()"
   ]
  },
  {
   "cell_type": "code",
   "execution_count": 192,
   "metadata": {
    "collapsed": false
   },
   "outputs": [
    {
     "data": {
      "image/png": "[encoded data removed]",
      "text/plain": [
       "<matplotlib.figure.Figure at 0x108c692b0>"
      ]
     },
     "metadata": {},
     "output_type": "display_data"
    }
   ],
   "source": [
    "plot_concept_points(C, labels, SAMPLE_DATA)"
   ]
  },
  {
   "cell_type": "code",
   "execution_count": 193,
   "metadata": {
    "collapsed": false
   },
   "outputs": [
    {
     "ename": "ValueError",
     "evalue": "min() arg is an empty sequence",
     "output_type": "error",
     "traceback": [
      "\u001b[0;31m---------------------------------------------------------------------------\u001b[0m",
      "\u001b[0;31mValueError\u001b[0m                                Traceback (most recent call last)",
      "\u001b[0;32m<ipython-input-193-88439a9f2330>\u001b[0m in \u001b[0;36m<module>\u001b[0;34m()\u001b[0m\n\u001b[0;32m----> 1\u001b[0;31m \u001b[0mH\u001b[0m \u001b[0;34m=\u001b[0m \u001b[0mget_hypothesis\u001b[0m\u001b[0;34m(\u001b[0m\u001b[0mSAMPLE_DATA\u001b[0m\u001b[0;34m,\u001b[0m \u001b[0mC\u001b[0m\u001b[0;34m)\u001b[0m\u001b[0;34m\u001b[0m\u001b[0m\n\u001b[0m\u001b[1;32m      2\u001b[0m \u001b[0mplot_rectangle\u001b[0m\u001b[0;34m(\u001b[0m\u001b[0mH\u001b[0m\u001b[0;34m)\u001b[0m\u001b[0;34m\u001b[0m\u001b[0m\n\u001b[1;32m      3\u001b[0m \u001b[0mprint\u001b[0m \u001b[0;34m(\u001b[0m\u001b[0mH\u001b[0m\u001b[0;34m)\u001b[0m\u001b[0;34m\u001b[0m\u001b[0m\n",
      "\u001b[0;32m<ipython-input-189-3c95b9576656>\u001b[0m in \u001b[0;36mget_hypothesis\u001b[0;34m(train_vectors, C)\u001b[0m\n\u001b[1;32m     82\u001b[0m             \u001b[0my_points\u001b[0m\u001b[0;34m.\u001b[0m\u001b[0mappend\u001b[0m\u001b[0;34m(\u001b[0m\u001b[0mtrain_vectors\u001b[0m\u001b[0;34m[\u001b[0m\u001b[0mi\u001b[0m\u001b[0;34m]\u001b[0m\u001b[0;34m[\u001b[0m\u001b[0;36m1\u001b[0m\u001b[0;34m]\u001b[0m\u001b[0;34m)\u001b[0m\u001b[0;34m\u001b[0m\u001b[0m\n\u001b[1;32m     83\u001b[0m \u001b[0;34m\u001b[0m\u001b[0m\n\u001b[0;32m---> 84\u001b[0;31m     \u001b[0mH\u001b[0m\u001b[0;34m[\u001b[0m\u001b[0;36m0\u001b[0m\u001b[0;34m]\u001b[0m \u001b[0;34m=\u001b[0m \u001b[0mmin\u001b[0m\u001b[0;34m(\u001b[0m\u001b[0mx_points\u001b[0m\u001b[0;34m)\u001b[0m\u001b[0;34m\u001b[0m\u001b[0m\n\u001b[0m\u001b[1;32m     85\u001b[0m     \u001b[0mH\u001b[0m\u001b[0;34m[\u001b[0m\u001b[0;36m1\u001b[0m\u001b[0;34m]\u001b[0m \u001b[0;34m=\u001b[0m \u001b[0mmin\u001b[0m\u001b[0;34m(\u001b[0m\u001b[0my_points\u001b[0m\u001b[0;34m)\u001b[0m\u001b[0;34m\u001b[0m\u001b[0m\n\u001b[1;32m     86\u001b[0m     \u001b[0mH\u001b[0m\u001b[0;34m[\u001b[0m\u001b[0;36m2\u001b[0m\u001b[0;34m]\u001b[0m \u001b[0;34m=\u001b[0m \u001b[0mmax\u001b[0m\u001b[0;34m(\u001b[0m\u001b[0mx_points\u001b[0m\u001b[0;34m)\u001b[0m\u001b[0;34m\u001b[0m\u001b[0m\n",
      "\u001b[0;31mValueError\u001b[0m: min() arg is an empty sequence"
     ]
    }
   ],
   "source": [
    "H = get_hypothesis(SAMPLE_DATA, C)\n",
    "plot_rectangle(H)\n",
    "print (H)"
   ]
  },
  {
   "cell_type": "code",
   "execution_count": 194,
   "metadata": {
    "collapsed": true
   },
   "outputs": [],
   "source": [
    "def plot_all(C, H, vectors):\n",
    "    x1 = C[0]\n",
    "    y1 = C[1]\n",
    "    x2 = C[2]\n",
    "    y2 = C[3]\n",
    "    \n",
    "    start_x = min([x1, x2])\n",
    "    end_x = max([x1, x2])\n",
    "    start_y = min([y1, y2])\n",
    "    end_y = max([y1, y2])\n",
    "    length = abs(y1 - y2)\n",
    "    width = abs(x1 - x2)\n",
    "    x1_h = H[0]\n",
    "    y1_h = H[1]\n",
    "    x2_h = H[2]\n",
    "    y2_h = H[3]\n",
    "    starth_x = min([x1_h, x2_h])\n",
    "    endh_x = max([x1_h, x2_h])\n",
    "    starth_y = min([y1_h, y2_h])\n",
    "    endh_y = max([y1_h, y2_h])\n",
    "    lengthh = abs(y1_h - y2_h)\n",
    "    widthh = abs(x1_h - x2_h)\n",
    "\n",
    "\n",
    "    fig3 = plt.figure()\n",
    "    ax3 = fig3.add_subplot(111)\n",
    "    for p in [\n",
    "        patches.Rectangle(\n",
    "        (start_x, start_y), width,length,linewidth=2,edgecolor='r',facecolor='none',\n",
    "        fill=False\n",
    "    ),\n",
    "    patches.Rectangle(\n",
    "        (starth_x, starth_y), widthh,lengthh,linewidth=2,edgecolor='k',facecolor='none',\n",
    "        fill=False\n",
    "    ),\n",
    "    ]: \n",
    "        ax3.add_patch(p)\n",
    "    \n",
    "    x_plus_plot = []\n",
    "    y_plus_plot = []\n",
    "    \n",
    "    x_minus_plot = []\n",
    "    y_minus_plot = []\n",
    "    \n",
    "    for i in range(len(vectors)):\n",
    "        if get_label(C, vectors[i]) == 1:\n",
    "            x_plus_plot.append(vectors[i][0])\n",
    "            y_plus_plot.append(vectors[i][1])\n",
    "        else:\n",
    "            x_minus_plot.append(vectors[i][0])\n",
    "            y_minus_plot.append(vectors[i][1])\n",
    "\n",
    "    plt.plot(x_plus_plot, y_plus_plot, 'ro')\n",
    "#     plt.plot([56,66,78], [58,53,52], 'ko')\n",
    "    plt.plot(x_minus_plot, y_minus_plot, 'bo')\n",
    "    ax3.set_xlim(0, 100)\n",
    "    ax3.set_ylim(0, 100)\n",
    "    plt.show()"
   ]
  },
  {
   "cell_type": "code",
   "execution_count": 181,
   "metadata": {
    "collapsed": false
   },
   "outputs": [
    {
     "data": {
      "image/png": "[encoded data removed]",
      "text/plain": [
       "<matplotlib.figure.Figure at 0x1097b7710>"
      ]
     },
     "metadata": {},
     "output_type": "display_data"
    }
   ],
   "source": [
    "plot_all(C, H, SAMPLE_DATA)"
   ]
  },
  {
   "cell_type": "code",
   "execution_count": 186,
   "metadata": {
    "collapsed": true
   },
   "outputs": [],
   "source": [
    "import random\n",
    "def get_training_examples(m):\n",
    "    \n",
    "    training_vectors = []\n",
    "    for i in range(m):\n",
    "        x = random.uniform(0.0, 100.0)\n",
    "        y = random.uniform(0.0, 100.0)\n",
    "        training_vectors.append([x, y])\n",
    "    \n",
    "    return training_vectors\n",
    "\n",
    "def get_test_examples():\n",
    "    \n",
    "    test_vectors = []\n",
    "    for i in range(1000):\n",
    "        x = random.uniform(0.0, 100.0)\n",
    "        y = random.uniform(0.0, 100.0)\n",
    "        test_vectors.append([x, y])\n",
    "    \n",
    "    return test_vectors\n",
    "\n",
    "def get_generalization_error(training_vectors, test_vectors):\n",
    "    C = generate_concept()\n",
    "    H = get_hypothesis(training_vectors, C)\n",
    "    err_count = 0\n",
    "    for i in range(len(test_vectors)):\n",
    "        if get_label(H, test_vectors[i]) != get_label(C, test_vectors[i]):\n",
    "            err_count += 1\n",
    "    \n",
    "    return (err_count / len(test_vectors)) * 100\n",
    "\n",
    "def show_plots(training_vectors, test_vectors):\n",
    "    plot_all(C, H, training_vectors)\n",
    "    plot_all(C, H, test_vectors)"
   ]
  },
  {
   "cell_type": "markdown",
   "metadata": {
    "collapsed": true
   },
   "source": [
    "**Part B**: Use your code to estimate the generalization error with confidence parameter $\\delta=0.05$ for training sets of size $m$ where $m = 250, 500, 1000, 1250,$ and $1500$ and the data are comprised of points $(x,y)$ where the $x$- and $y$-values are sampled from the continuous uniform distribution $\\textrm{unif}(0,100)$. Make a **log-log** plot with $m$ on the horizontal axes and $\\epsilon$ on the vertical axis.  Additionally, overlay the theoretical PAC bound on your graph and discuss your results. "
   ]
  },
  {
   "cell_type": "code",
   "execution_count": 187,
   "metadata": {
    "collapsed": false
   },
   "outputs": [
    {
     "name": "stdout",
     "output_type": "stream",
     "text": [
      "[90.40269484528875, 46.51334290734274]\n",
      "[94.54007348532284, 47.38432559481964]\n",
      "[81.52169735527382, 43.14352861112797]\n",
      "[78.28647828805796, 38.716849228267016]\n",
      "[81.82202361512874, 42.7250509034908]\n",
      "[85.70903131522638, 39.23625315094468]\n",
      "[86.14398393565578, 46.461172899736404]\n",
      "[79.92973238802368, 49.04654413763172]\n",
      "1.7999999999999998\n"
     ]
    },
    {
     "data": {
      "image/png": "[encoded data removed]",
      "text/plain": [
       "<matplotlib.figure.Figure at 0x108b35b70>"
      ]
     },
     "metadata": {},
     "output_type": "display_data"
    },
    {
     "data": {
      "image/png": "[encoded data removed]",
      "text/plain": [
       "<matplotlib.figure.Figure at 0x108004ac8>"
      ]
     },
     "metadata": {},
     "output_type": "display_data"
    }
   ],
   "source": [
    "# run same code for m = 250,500,1000,1250\n",
    "training_vectors = get_training_examples(250)\n",
    "test_vectors = get_test_examples()\n",
    "gen_error = get_generalization_error(training_vectors, test_vectors)\n",
    "print (gen_error)\n",
    "show_plots(training_vectors, test_vectors)"
   ]
  },
  {
   "cell_type": "markdown",
   "metadata": {
    "collapsed": true
   },
   "source": [
    "**Part C**: Repeat **Part B** where the data are comprised of points $(x,y)$ where the $x$- and $y$-values are sampled from the normal distribution with mean $\\mu = 50$ and standard deviation $\\sigma = 25$. Again, overlay the theoretical PAC bound on your graph and discuss your results. Do you expect to observe very different results than those observed in **Part B**?  "
   ]
  },
  {
   "cell_type": "code",
   "execution_count": null,
   "metadata": {
    "collapsed": true
   },
   "outputs": [],
   "source": [
    "# do B again with training points from normal mu = 50, stddev = 25"
   ]
  },
  {
   "cell_type": "code",
   "execution_count": null,
   "metadata": {
    "collapsed": true
   },
   "outputs": [],
   "source": []
  }
 ],
 "metadata": {
  "anaconda-cloud": {},
  "kernelspec": {
   "display_name": "Python [Root]",
   "language": "python",
   "name": "Python [Root]"
  },
  "language_info": {
   "codemirror_mode": {
    "name": "ipython",
    "version": 3
   },
   "file_extension": ".py",
   "mimetype": "text/x-python",
   "name": "python",
   "nbconvert_exporter": "python",
   "pygments_lexer": "ipython3",
   "version": "3.5.2"
  }
 },
 "nbformat": 4,
 "nbformat_minor": 2
}
