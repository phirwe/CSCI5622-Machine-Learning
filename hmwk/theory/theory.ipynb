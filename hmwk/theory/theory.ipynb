{
 "cells": [
  {
   "cell_type": "markdown",
   "metadata": {},
   "source": [
    "# Learning Theory Homework \n",
    "***\n",
    "**Name**: Poorwa Hirve (pohi2375)\n",
    "***\n",
    "\n",
    "This assignment is due on Moodle by **5pm on Friday March 9th**. Submit only this Jupyter notebook to Moodle. Do not compress it using tar, rar, zip, etc. Your solutions to analysis questions should be done in Markdown directly below the associated question.  Remember that you are encouraged to discuss the problems with your instructors and classmates, but **you must write all code and solutions on your own**.  For a refresher on the course **Collaboration Policy** click [here](https://github.com/chrisketelsen/CSCI5622-Machine-Learning/blob/master/resources/syllabus.md#collaboration-policy)\n",
    "\n"
   ]
  },
  {
   "cell_type": "markdown",
   "metadata": {},
   "source": [
    "## Overview \n",
    "***\n",
    "\n",
    "In this assignment you will explore the concepts of PAC learnability and VC dimension. \n"
   ]
  },
  {
   "cell_type": "markdown",
   "metadata": {},
   "source": [
    "### [15 points] Problem 1: \n",
    "***\n",
    "\n",
    "Consider the class C of concepts defined by triangles with **distinct** vertices of the form $(i, j)$ where $i$ and $j$ are integers in the interval $[0,99]$. A concept c labels points on the interior and boundary of the associated triangle as positive and points exterior to the triangle as negative.\n",
    "\n",
    "**Note**: To make life easier, we'll allow degenerate triangles in $C$. That is, triangles where the vertices are collinear. The following image depicts an example of a nondegenerate and a degenerate triangle."
   ]
  },
  {
   "cell_type": "markdown",
   "metadata": {},
   "source": [
    "<img src=\"figs/triangles.png\" width=400 height=50>  "
   ]
  },
  {
   "cell_type": "markdown",
   "metadata": {},
   "source": [
    "**Part A**: Suppose we have an algorithm that produces a consistent $h$ from the hypothesis class $H = C$. Give a bound on the number of training examples sufficient to assure that for any target concept $c$ in $C$, our algorithm will, with probability $1-\\delta$, output a hypothesis $h$ with generalization error at most $\\epsilon$."
   ]
  },
  {
   "cell_type": "markdown",
   "metadata": {
    "collapsed": true
   },
   "source": [
    "**Solution:**\n",
    "\n",
    "As degenerate triangles are allowed, we can choose any 3 points in the finite integer interval [0, 99] for x and [0, 99] for y. \n",
    "\n",
    "All the points together become 100 * 100 = 10,000 points. \n",
    "\n",
    "We can choose 3 points for the hypothesis with these as following:\n",
    "H = $^{10000}{\\bf C}_{3}$"
   ]
  },
  {
   "cell_type": "markdown",
   "metadata": {},
   "source": [
    "**Part B**: Based on your bound in **Part A**, determine the minimum number of training examples necessary such that for any target concept $c$ in $C$, our algorithm will, with probability $0.95$, output a hypothesis $h$ with generalization error at most $0.15$.  "
   ]
  },
  {
   "cell_type": "markdown",
   "metadata": {
    "collapsed": true
   },
   "source": [
    "**Solution:**\n",
    "\n",
    "Using the value of H in the formula we get:\n",
    "\n",
    "$$\n",
    "m \\geq \\frac{1}{\\epsilon} (\\log |H| + \\log\\frac{1}{\\delta})\n",
    "$$\n",
    "\n",
    "Which is:\n",
    "\n",
    "$$\n",
    "m \\geq \\frac{1}{0.15} (\\log |^{10000}{\\bf C}_{3}| + \\log\\frac{1}{0.05})\n",
    "$$\n",
    "$$\n",
    "m \\geq \\frac{1}{0.15} (\\log |166,616,670,000| + \\log\\frac{1}{0.05})\n",
    "$$\n",
    "$$\n",
    "m \\geq 6.67 * (25.84 + 2.99)\n",
    "$$\n",
    "\n",
    "Therefore: m ${\\geq}$ 192.29\n",
    "\n",
    "So the bounds should be m ${\\geq}$ 193."
   ]
  },
  {
   "cell_type": "markdown",
   "metadata": {},
   "source": [
    "### [15 points] Problem 2: \n",
    "***\n",
    "\n",
    "Consider feature vectors that live in two-dimensional space and the class of hypotheses defined by circles **centered at the origin**. There are two different kinds of hypotheses $h$ in this class. One type of hypthesis classifies points as positive if they lie on the boundary or **interior** of the circle, and negative otherwise. The other type of hypothesis classifies points as positive if they lie on the boundary or **exterior** of the circle, and negative otherwise. State and prove (rigorously) the VC dimension of this family of classifiers."
   ]
  },
  {
   "cell_type": "markdown",
   "metadata": {},
   "source": [
    "**Solution:**"
   ]
  },
  {
   "cell_type": "code",
   "execution_count": 1,
   "metadata": {
    "collapsed": false
   },
   "outputs": [],
   "source": [
    "import numpy as np\n",
    "import matplotlib.pylab as plt\n",
    "import matplotlib.patches as patches\n",
    "import random\n",
    "%matplotlib inline \n",
    "\n",
    "def plot_vcdim2():\n",
    "    circle1 = plt.Circle((0, 0), 5, color='k', fill=False, clip_on=False)\n",
    "\n",
    "    fig, ax = plt.subplots(2,2)\n",
    "\n",
    "    x1 = 2\n",
    "    y1 = 2\n",
    "    x2 = 7\n",
    "    y2 = 5\n",
    "\n",
    "\n",
    "    ax[0,0].add_artist(circle1)\n",
    "    ax[0,0].axis('equal')\n",
    "\n",
    "    ax[0,0].set_xlim(-20, 20)\n",
    "    ax[0,0].set_ylim(-20, 20)\n",
    "    \n",
    "    ax[0,0].plot(x1, y1, 'ro')\n",
    "    ax[0,0].plot(x2, y2, 'bo')\n",
    "    ax[0,0].set_title('Origin centered circles for 2 points')\n",
    "\n",
    "#     plt.plot(x1, y1, 'ro')\n",
    "#     plt.plot(x2, y2, 'bo')\n",
    "#     plt.show()\n",
    "\n",
    "    circle2 = plt.Circle((0, 0), 5, color='k', fill=False, clip_on=False)\n",
    "\n",
    "#     fig, ax = plt.subplots()\n",
    "\n",
    "    ax[0,1].add_artist(circle2)\n",
    "    ax[0,1].axis('equal')\n",
    "\n",
    "    ax[0,1].set_xlim(-20, 20)\n",
    "    ax[0,1].set_ylim(-20, 20)\n",
    "    \n",
    "    ax[0,1].plot(x1, y1, 'bo')\n",
    "    ax[0,1].plot(x2, y2, 'ro')\n",
    "    \n",
    "    ax[0,1].set_title('(red: pos, blue: neg)')\n",
    "#     plt.plot(x1, y1, 'ro')\n",
    "#     plt.plot(x2, y2, 'ro')\n",
    "#     plt.show()\n",
    "\n",
    "    circle3 = plt.Circle((0, 0), 10, color='k', fill=False, clip_on=False)\n",
    "\n",
    "#     fig, ax = plt.subplots()\n",
    "\n",
    "    ax[1,0].add_artist(circle3)\n",
    "    ax[1,0].axis('equal')\n",
    "    ax[1,0].set_xlim(-20, 20)\n",
    "    ax[1,0].set_ylim(-20, 20)\n",
    "    \n",
    "    ax[1,0].plot(x1, y1, 'ro')\n",
    "    ax[1,0].plot(x2, y2, 'ro')\n",
    "#     plt.plot(x1, y1, 'bo')\n",
    "#     plt.plot(x2, y2, 'ro')\n",
    "#     plt.show()\n",
    "\n",
    "    circle4 = plt.Circle((0, 0), 10, color='k', fill=False, clip_on=False)\n",
    "\n",
    "#     fig, ax = plt.subplots()\n",
    "\n",
    "    ax[1,1].add_artist(circle4)\n",
    "    ax[1,1].axis('equal')\n",
    "\n",
    "    ax[1,1].set_xlim(-20, 20)\n",
    "    ax[1,1].set_ylim(-20, 20)\n",
    "    ax[1,1].plot(x1, y1, 'bo')\n",
    "    ax[1,1].plot(x2, y2, 'bo')\n",
    "#     plt.plot(x1, y1, 'bo')\n",
    "#     plt.plot(x2, y2, 'bo')\n",
    "#     plt.title('Origin centered circles')\n",
    "\n",
    "    plt.show()\n",
    "    \n",
    "def plot_vcdim3():\n",
    "    circle1 = plt.Circle((0, 0), 4, color='k', fill=False, clip_on=False)\n",
    "\n",
    "    fig, ax = plt.subplots(2,2)\n",
    "\n",
    "    x1 = 2\n",
    "    y1 = 2\n",
    "    x2 = 6\n",
    "    y2 = 4\n",
    "    x3 = 10\n",
    "    y3 = -2\n",
    "\n",
    "\n",
    "    ax[0,0].add_artist(circle1)\n",
    "    ax[0,0].axis('equal')\n",
    "\n",
    "    ax[0,0].set_xlim(-20, 20)\n",
    "    ax[0,0].set_ylim(-20, 20)\n",
    "    \n",
    "    ax[0,0].plot(x1, y1, 'ro')\n",
    "    ax[0,0].plot(x2, y2, 'bo')\n",
    "    ax[0,0].plot(x3, y3, 'bo')\n",
    "#     plt.plot(x1, y1, 'ro')\n",
    "#     plt.plot(x2, y2, 'bo')\n",
    "#     plt.show()\n",
    "    ax[0,0].set_title('Origin centered circles for 3 points')\n",
    "    circle2 = plt.Circle((0, 0), 8, color='k', fill=False, clip_on=False)\n",
    "\n",
    "#     fig, ax = plt.subplots()\n",
    "\n",
    "    ax[0,1].add_artist(circle2)\n",
    "    ax[0,1].axis('equal')\n",
    "\n",
    "    ax[0,1].set_xlim(-20, 20)\n",
    "    ax[0,1].set_ylim(-20, 20)\n",
    "    \n",
    "    ax[0,1].plot(x1, y1, 'bo')\n",
    "    ax[0,1].plot(x2, y2, 'bo')\n",
    "    ax[0,1].plot(x3, y3, 'ro')\n",
    "    \n",
    "    ax[0,1].set_title('(red: pos, blue: neg)')\n",
    "\n",
    "#     plt.plot(x1, y1, 'ro')\n",
    "#     plt.plot(x2, y2, 'ro')\n",
    "#     plt.show()\n",
    "\n",
    "    circle3 = plt.Circle((0, 0), 7, color='k', fill=False, clip_on=False)\n",
    "\n",
    "#     fig, ax = plt.subplots()\n",
    "\n",
    "    ax[1,0].add_artist(circle3)\n",
    "    ax[1,0].axis('equal')\n",
    "    ax[1,0].set_xlim(-20, 20)\n",
    "    ax[1,0].set_ylim(-20, 20)\n",
    "    \n",
    "    ax[1,0].plot(x1, y1, 'ro')\n",
    "    ax[1,0].plot(x2, y2, 'ro')\n",
    "    ax[1,0].plot(x3, y3, 'bo')\n",
    "#     plt.plot(x1, y1, 'bo')\n",
    "#     plt.plot(x2, y2, 'ro')\n",
    "#     plt.show()\n",
    "\n",
    "    circle4 = plt.Circle((0, 0), 5, color='k', fill=False, clip_on=False)\n",
    "\n",
    "#     fig, ax = plt.subplots()\n",
    "\n",
    "    ax[1,1].add_artist(circle4)\n",
    "    ax[1,1].axis('equal')\n",
    "\n",
    "    ax[1,1].set_xlim(-20, 20)\n",
    "    ax[1,1].set_ylim(-20, 20)\n",
    "    ax[1,1].plot(x1, y1, 'bo')\n",
    "    ax[1,1].plot(x2, y2, 'ro')\n",
    "    ax[1,1].plot(x3, y3, 'bo')\n",
    "\n",
    "#     plt.plot(x1, y1, 'bo')\n",
    "#     plt.plot(x2, y2, 'bo')\n",
    "\n",
    "    plt.show()\n",
    "\n",
    "\n",
    "    circle5 = plt.Circle((0, 0), 3, color='k', fill=False, clip_on=False)\n",
    "\n",
    "    fig, ax = plt.subplots(2,2)\n",
    "\n",
    "    ax[0,0].add_artist(circle5)\n",
    "    ax[0,0].axis('equal')\n",
    "\n",
    "    ax[0,0].set_xlim(-20, 20)\n",
    "    ax[0,0].set_ylim(-20, 20)\n",
    "    ax[0,0].plot(x1, y1, 'ro')\n",
    "    ax[0,0].plot(x2, y2, 'bo')\n",
    "    ax[0,0].plot(x3, y3, 'ro')\n",
    "\n",
    "#     plt.plot(x1, y1, 'bo')\n",
    "#     plt.plot(x2, y2, 'bo')\n",
    "#     plt.show()\n",
    "    \n",
    "    circle6 = plt.Circle((0, 0), 11, color='k', fill=False, clip_on=False)\n",
    "\n",
    "#     fig, ax = plt.subplots()\n",
    "\n",
    "    ax[0,1].add_artist(circle6)\n",
    "    ax[0,1].axis('equal')\n",
    "\n",
    "    ax[0,1].set_xlim(-20, 20)\n",
    "    ax[0,1].set_ylim(-20, 20)\n",
    "    ax[0,1].plot(x1, y1, 'bo')\n",
    "    ax[0,1].plot(x2, y2, 'bo')\n",
    "    ax[0,1].plot(x3, y3, 'bo')\n",
    "\n",
    "#     plt.plot(x1, y1, 'bo')\n",
    "#     plt.plot(x2, y2, 'bo')\n",
    "#     plt.show()\n",
    "    \n",
    "    circle7 = plt.Circle((0, 0), 11, color='k', fill=False, clip_on=False)\n",
    "\n",
    "#     fig, ax = plt.subplots()\n",
    "\n",
    "    ax[1,0].add_artist(circle7)\n",
    "    ax[1,0].axis('equal')\n",
    "\n",
    "    ax[1,0].set_xlim(-20, 20)\n",
    "    ax[1,0].set_ylim(-20, 20)\n",
    "    ax[1,0].plot(x1, y1, 'ro')\n",
    "    ax[1,0].plot(x2, y2, 'ro')\n",
    "    ax[1,0].plot(x3, y3, 'ro')\n",
    "\n",
    "#     plt.plot(x1, y1, 'bo')\n",
    "#     plt.plot(x2, y2, 'bo')\n",
    "#     plt.show()\n",
    "    \n",
    "    circle8 = plt.Circle((0, 0), 4, color='k', fill=False, clip_on=False)\n",
    "\n",
    "#     fig, ax = plt.subplots()\n",
    "\n",
    "    ax[1,1].add_artist(circle8)\n",
    "    ax[1,1].axis('equal')\n",
    "\n",
    "    ax[1,1].set_xlim(-20, 20)\n",
    "    ax[1,1].set_ylim(-20, 20)\n",
    "    ax[1,1].plot(x1, y1, 'bo')\n",
    "    ax[1,1].plot(x2, y2, 'ro')\n",
    "    ax[1,1].plot(x3, y3, 'ro')\n",
    "\n",
    "#     plt.plot(x1, y1, 'bo')\n",
    "#     plt.plot(x2, y2, 'bo')\n",
    "    plt.show()"
   ]
  },
  {
   "cell_type": "markdown",
   "metadata": {
    "collapsed": true
   },
   "source": [
    "The VC Dimension of this hypothesis class is $2$.  To prove this, we need to show the shattering of a particular set of $2$ points, and then prove that no set of $3$ points can be shattered.  \n",
    "\n",
    "Let $x_1$, $x_2$ be points positioned on 2 points on the x-y axes as the following.  There are $2^2=4$ possible dichotomies on $x_1$, $x_2$.  We need to show that we can accurately classify all of them. \n",
    "\n",
    "|${x_1}$| ${x_2}$|\n",
    "|-------|-------|\n",
    "|+|+|\n",
    "|+|-|\n",
    "|-|+|\n",
    "|-|-| \n",
    "\n",
    "To prove that the $\\textrm{VCdim}(H) \\geq 2$, we have to show that for some sample of 2 points, all 2^2 = 4 points can be shattered by either of the hypotheses.\n",
    "\n",
    "Taking points at (x1, y1) = (2, 2) and (x2, y2) = (7, 5)\n",
    "Let's plot the points such that positive points are red and negative points are blue.\n",
    "\n",
    "Assuming that none of the points can lie on top of each other, and that the points are distinct without loss of generality. Let us also assume that the two kinds of hypothesis will be referred to as hypothesis 1 and hypothesis 2, respectively to their representation as mentioned in the question."
   ]
  },
  {
   "cell_type": "code",
   "execution_count": 2,
   "metadata": {
    "collapsed": false
   },
   "outputs": [
    {
     "data": {
      "image/png": "[encoded data removed]",
      "text/plain": [
       "<matplotlib.figure.Figure at 0x103faa6a0>"
      ]
     },
     "metadata": {},
     "output_type": "display_data"
    }
   ],
   "source": [
    "plot_vcdim2()"
   ]
  },
  {
   "cell_type": "markdown",
   "metadata": {},
   "source": [
    "As seen from the above graphs, the hypothesis shatters some sample of 2 points, so $\\textrm{VCdim}(H) \\geq 2$.\n",
    "\n",
    "Mathematical proof:\n",
    "Order them as $x_1 < x_2$. Let us see the $2^2 = 4$ labels:\n",
    "1. Consider labels as $y_1 = +1$ and $y_2 = -1$.  \n",
    "    We can see that a circle of radius r such that $x_1 \\leq r < x_2$ satisfying hypothesis 1.\n",
    "2. Consider labels as $y_1 = -1$ and $y_2 = +1$.  \n",
    "    We can see that a circle of radius r such that $x_1 < r \\leq x_2$ satisfying hypothesis 2.\n",
    "3. Consider labels as $y_1 = +1$ and $y_2 = +1$.  \n",
    "    We can see that a circle of radius r such that $r \\geq x_2$ satisfying hypothesis 1.\n",
    "4. Consider labels as $y_1 = -1$ and $y_2 = -1$.  \n",
    "    We can see that a circle of radius r such that $r > x_2$ satisfying hypothesis 2.\n",
    "    \n",
    "Hence, $\\textrm{VCdim}(H) \\geq 2$."
   ]
  },
  {
   "cell_type": "markdown",
   "metadata": {},
   "source": [
    "Next to prove that $\\textrm{VCdim}(H) < 3$ by showing that no set of 3 points can be shattered. \n",
    "\n",
    "|${x_1}$| ${x_2}$| ${x_3}$\n",
    "|-------|-------|------|\n",
    "|+|+|-|\n",
    "|-|-|+|\n",
    "|+|-|-|\n",
    "|-|+|+|\n",
    "|+|-|+|\n",
    "|-|+|-|\n",
    "|-|-|-|\n",
    "|+|+|+|\n"
   ]
  },
  {
   "cell_type": "code",
   "execution_count": 3,
   "metadata": {
    "collapsed": false,
    "scrolled": false
   },
   "outputs": [
    {
     "data": {
      "image/png": "[encoded data removed]",
      "text/plain": [
       "<matplotlib.figure.Figure at 0x1080dfac8>"
      ]
     },
     "metadata": {},
     "output_type": "display_data"
    },
    {
     "data": {
      "image/png": "[encoded data removed]",
      "text/plain": [
       "<matplotlib.figure.Figure at 0x108c097b8>"
      ]
     },
     "metadata": {},
     "output_type": "display_data"
    }
   ],
   "source": [
    "plot_vcdim3()"
   ]
  },
  {
   "cell_type": "markdown",
   "metadata": {},
   "source": [
    "As seen from the above graphs, the hypothesis fails to shatter a sample of 3 points.\n",
    "\n",
    "1) Assuming that none of the points can lie on top of each other, and that the points are distinct without loss of generality.\n",
    "\n",
    "Mathematical proof:\n",
    "Order them as $x_1 < x_2 < x_3$. Let us see the $2^3 = 8$ labels:\n",
    "1. Consider labels as $y_1 = +1, y_2 = +1$ and $y_3 = -1$.  \n",
    "    We can see that a circle of radius r such that $x_2 \\leq r < x_3$ satisfying hypothesis 1.\n",
    "2. Consider labels as $y_1 = -1, y_2 = -1$ and $y_3 = +1$.  \n",
    "    We can see that a circle of radius r such that $x_2 < r \\leq x_3$ satisfying hypothesis 2.\n",
    "3. Consider labels as $y_1 = +1, y_2 = -1$ and $y_3 = -1$.  \n",
    "    We can see that a circle of radius r such that $x_1 \\leq r < x_2$ satisfying hypothesis 1.\n",
    "4. Consider labels as $y_1 = -1, y_2 = +1$ and $y_3 = +1$.  \n",
    "    We can see that a circle of radius r such that $x_1 < r \\leq x_2$ satisfying hypothesis 2.\n",
    "5. Consider labels as $y_1 = +1, y_2 = -1$ and $y_3 = +1$.\n",
    "    - Since $y_1 = +1$ must have $r \\leq x_1$ according to hypothesis 1, and  \n",
    "    Since $y_3 = +1$ must have $r \\leq x_3$ according to hypothesis 1  \n",
    "    Then $x_1 < x_2 < x_3$ with $r \\leq x_3$\n",
    "    \n",
    "    But $y_2 = -1$ which is a contradiction.  \n",
    "      \n",
    "    - Since $y_1 = +1$ must have $r \\geq x_1$ according to hypothesis 2, and  \n",
    "    Since $y_3 = +1$ must have $r \\geq x_3$ according to hypothesis 2  \n",
    "    Then $x_1 < x_2 < x_3$ with $r \\geq x_1$\n",
    "    \n",
    "    But $y_2 = -1$ which is a contradiction.  \n",
    "\n",
    "    We can see that no circle satisfies the hypothesis.\n",
    "    \n",
    "6. Consider labels as $y_1 = -1, y_2 = +1$ and $y_3 = -1$. \n",
    "    - Since $y_1 = -1$ must have $r > x_1$ according to hypothesis 2, and  \n",
    "    Since $y_3 = -1$ must have $r > x_3$ according to hypothesis 2  \n",
    "    Then $x_1 < x_2 < x_3$ with $r > x_3$\n",
    "    \n",
    "    But $y_2 = +1$ which is a contradiction.  \n",
    "      \n",
    "    - Since $y_1 = -1$ must have $r < x_1$ according to hypothesis 1, and  \n",
    "    Since $y_3 = -1$ must have $r < x_3$ according to hypothesis 1  \n",
    "    Then $x_1 < x_2 < x_3$ with $r < x_1$\n",
    "    \n",
    "    But $y_2 = +1$ which is a contradiction.  \n",
    "    \n",
    "    We can see that no circle satisfies the hypothesis.\n",
    "7. Consider labels as $y_1 = +1, y_2 = +1$ and $y_3 = +1$.  \n",
    "    We can see that a circle of radius r such that $r \\geq x_3$ satisfying hypothesis 1.\n",
    "8. Consider labels as $y_1 = -1, y_2 = -1$ and $y_3 = -1$.  \n",
    "    We can see that a circle of radius r such that $r > x_3$ satisfying hypothesis 2.\n",
    "    \n",
    "2) Assuming that the points can lie on top of each other, both parts of the hypothesis fails to shatter in the case where alternate labels are used for the points (points 5 and 6).\n",
    "\n",
    "Hence, $\\textrm{VCdim}(H) < 3$.\n",
    "\n",
    "$\\textrm{VCdim}(H) = 2$."
   ]
  },
  {
   "cell_type": "markdown",
   "metadata": {},
   "source": [
    "### [20 points] Problem 3: Empirical Verification of PAC Bounds for Axis-Aligned Rectangles \n",
    "***\n",
    "\n",
    "In the in-class notebook associated with PAC Learnability, we proved a PAC bound for the class of concepts $C$ comprised of axis-aligned rectangles living in $\\mathbb{R}^2$ of the form $(a \\leq x \\leq b) \\wedge (c \\leq y \\leq d)$ where $a, b, c, d$ are real numbers. Specifically, we proved that with probability $1-\\delta$, any consistent learner could learn a hypothesis $h$ in $H = C$ with generalization error less than $\\epsilon$ provided that the number of training examples satisfied \n",
    "\n",
    "$$\n",
    "m > \\frac{4}{\\epsilon}\\log\\frac{4}{\\delta}\n",
    "$$\n",
    "\n",
    "In this problem you will empirically verify this bound for the restricted concept class $C$ where the rectangles are defined by $(a \\leq x \\leq b) \\wedge (c \\leq y \\leq d)$ where $a, b, c, d$ are real numbers satisfying $0 \\leq a \\leq b \\leq 100$ and $0 \\leq c \\leq d \\leq 100$. \n",
    "\n",
    "**Part A**: The following is a general outline of how you should accomplish this, but it is up to you how you organize your code. "
   ]
  },
  {
   "cell_type": "markdown",
   "metadata": {},
   "source": [
    "- Write some code that randomly generates a concept rectangle $c$. \n",
    "\n",
    "\n",
    "\n",
    "- Write some code that, given feature vectors of length-2, labels them according to some rectangle (that is, labels a point positive if the point is on the boundary or interior of the rectangle, and negative otherwise).  \n",
    "\n",
    "\n",
    "\n",
    "- Write some code that, given training examples of length-2, and labeled according to a concept $c$, returns a consistent hypothesis rectangle $h$. \n",
    "\n",
    "\n",
    "\n",
    "- Write some code that generates a training set of size $m$, labels them according to a random concept $c$, learns a consistent hypothesis $h$, and then approximates the generalization error by predicting on $1000$ new examples from the same distribution as the training data. \n",
    "\n",
    "\n",
    "- Write some code that computes approximate generalization errors for $100$ independent concepts $c$ and associated training sets of size $m$, and returns the worst-case generalization error at the confidence level $1-\\delta$.  One way to do this in the case that say $\\delta = 0.05$, is to report the $95^\\textrm{th}$ percentile of the $100$ samples of the generalization error. We can then say that, in our simulation, $100(1-\\delta)\\%$ of our observed generalization errors were less than our computed value. (**Bonus**: If your code is efficient, try increasing the number of runs in the simulation to $500$. This should give you a better approximation of the generalization error.) "
   ]
  },
  {
   "cell_type": "code",
   "execution_count": 4,
   "metadata": {
    "collapsed": false
   },
   "outputs": [],
   "source": [
    "def generate_concept():\n",
    "    \n",
    "#     if normal_flag == True:\n",
    "#         x1 = random.normalvariate(50.0, 25.0)\n",
    "#         y1 = random.normalvariate(50.0, 25.0)\n",
    "#         x2 = random.normalvariate(50.0, 25.0)\n",
    "#         y2 = random.normalvariate(50.0, 25.0)\n",
    "    \n",
    "#         width = random.uniform(0.0, 100.0 - x1)\n",
    "#         height = random.uniform(0.0, 100.0 - y1)\n",
    "    \n",
    "#         x2 = x1 +  width\n",
    "#         y2 = y1 + height\n",
    "    \n",
    "#         return [x1, y1, x2, y2]\n",
    "\n",
    "#         return np.random.normal(50, 25, 4)\n",
    "    \n",
    "    x1 = random.uniform(0.0, 100.0)\n",
    "    y1 = random.uniform(0.0, 100.0)\n",
    "    \n",
    "    width = random.uniform(0.0, 100.0 - x1)\n",
    "    height = random.uniform(0.0, 100.0 - y1)\n",
    "    \n",
    "    x2 = x1 +  width\n",
    "    y2 = y1 + height\n",
    "    \n",
    "    return [x1, y1, x2, y2]\n",
    "\n",
    "def get_label(C, vector):\n",
    "    x = vector[0]\n",
    "    y = vector[1]\n",
    "    x1 = C[0]\n",
    "    y1 = C[1]\n",
    "    x2 = C[2]\n",
    "    y2 = C[3]\n",
    "    \n",
    "    start_x = min([x1, x2])\n",
    "    end_x = max([x1, x2])\n",
    "    start_y = min([y1, y2])\n",
    "    end_y = max([y1, y2])\n",
    "    width = abs(y1 - y2)\n",
    "    length = abs(x1 - x2)\n",
    "    xflag = False\n",
    "    yflag = False\n",
    "    if x >= start_x and x <= end_x:\n",
    "        xflag = True\n",
    "    if y >= start_y and y <= end_y:\n",
    "        yflag = True\n",
    "\n",
    "    if xflag and yflag == True:\n",
    "        return 1\n",
    "    else:\n",
    "        return -1\n",
    "    \n",
    "def get_hypothesis(train_vectors, C):\n",
    "    H = [-1,-1,-1,-1]\n",
    "\n",
    "    x_points = []\n",
    "    y_points = []\n",
    "    for i in range(len(train_vectors)):\n",
    "        if get_label(C, train_vectors[i]) == 1:\n",
    "            x_points.append(train_vectors[i][0])\n",
    "            y_points.append(train_vectors[i][1])\n",
    "    try:        \n",
    "        H[0] = min(x_points)\n",
    "        H[1] = min(y_points)\n",
    "        H[2] = max(x_points)\n",
    "        H[3] = max(y_points)\n",
    "\n",
    "        return H\n",
    "    \n",
    "    except:\n",
    "        return None\n"
   ]
  },
  {
   "cell_type": "code",
   "execution_count": 5,
   "metadata": {
    "collapsed": false
   },
   "outputs": [],
   "source": [
    "def plot_all(C, H, vectors):\n",
    "    x1 = C[0]\n",
    "    y1 = C[1]\n",
    "    x2 = C[2]\n",
    "    y2 = C[3]\n",
    "    \n",
    "    start_x = min([x1, x2])\n",
    "    end_x = max([x1, x2])\n",
    "    start_y = min([y1, y2])\n",
    "    end_y = max([y1, y2])\n",
    "    length = abs(y1 - y2)\n",
    "    width = abs(x1 - x2)\n",
    "    x1_h = H[0]\n",
    "    y1_h = H[1]\n",
    "    x2_h = H[2]\n",
    "    y2_h = H[3]\n",
    "    starth_x = min([x1_h, x2_h])\n",
    "    endh_x = max([x1_h, x2_h])\n",
    "    starth_y = min([y1_h, y2_h])\n",
    "    endh_y = max([y1_h, y2_h])\n",
    "    lengthh = abs(y1_h - y2_h)\n",
    "    widthh = abs(x1_h - x2_h)\n",
    "\n",
    "\n",
    "    fig3 = plt.figure()\n",
    "    ax3 = fig3.add_subplot(111)\n",
    "    for p in [\n",
    "        patches.Rectangle(\n",
    "        (start_x, start_y), width,length,linewidth=2,edgecolor='r',facecolor='none',\n",
    "        fill=False\n",
    "    ),\n",
    "    patches.Rectangle(\n",
    "        (starth_x, starth_y), widthh,lengthh,linewidth=2,edgecolor='k',facecolor='none',\n",
    "        fill=False\n",
    "    ),\n",
    "    ]: \n",
    "        ax3.add_patch(p)\n",
    "    \n",
    "    x_plus_plot = []\n",
    "    y_plus_plot = []\n",
    "    \n",
    "    x_minus_plot = []\n",
    "    y_minus_plot = []\n",
    "    \n",
    "    for i in range(len(vectors)):\n",
    "        if get_label(C, vectors[i]) == 1:\n",
    "            x_plus_plot.append(vectors[i][0])\n",
    "            y_plus_plot.append(vectors[i][1])\n",
    "        else:\n",
    "            x_minus_plot.append(vectors[i][0])\n",
    "            y_minus_plot.append(vectors[i][1])\n",
    "\n",
    "    plt.plot(x_plus_plot, y_plus_plot, 'ro', label='positive')\n",
    "    plt.plot(x_minus_plot, y_minus_plot, 'bo', label='negative')\n",
    "    ax3.set_xlim(0, 100)\n",
    "    ax3.set_ylim(0, 100)\n",
    "    plt.legend()\n",
    "    plt.show()"
   ]
  },
  {
   "cell_type": "code",
   "execution_count": 6,
   "metadata": {
    "collapsed": false
   },
   "outputs": [],
   "source": [
    "def get_training_examples(m, normal_flag=False):\n",
    "    training_vectors = []\n",
    "    if normal_flag == True:\n",
    "        for i in range(m):\n",
    "            x = random.normalvariate(50.0, 25.0)\n",
    "            y = random.normalvariate(50.0, 25.0)\n",
    "            training_vectors.append([x, y])\n",
    "        return training_vectors\n",
    "    \n",
    "    for i in range(m):\n",
    "        x = random.uniform(0.0, 100.0)\n",
    "        y = random.uniform(0.0, 100.0)\n",
    "        training_vectors.append([x, y])\n",
    "    \n",
    "    return training_vectors\n",
    "\n",
    "def get_test_examples(normal_flag=False):\n",
    "    \n",
    "    test_vectors = []\n",
    "    if normal_flag == True:\n",
    "        for i in range(1000):\n",
    "            x = random.normalvariate(50.0, 25.0)\n",
    "            y = random.normalvariate(50.0, 25.0)\n",
    "            test_vectors.append([x, y])\n",
    "        return test_vectors\n",
    "    \n",
    "    for i in range(1000):\n",
    "        x = random.uniform(0.0, 100.0)\n",
    "        y = random.uniform(0.0, 100.0)\n",
    "        test_vectors.append([x, y])\n",
    "    \n",
    "    return test_vectors\n",
    "\n",
    "def get_generalization_errors(ms, runs, delta, normal_flag=False):\n",
    "    \n",
    "    gen_total_errors = []\n",
    "    theoretical_errors = []\n",
    "    \n",
    "    for i in range(runs):\n",
    "        C = generate_concept()\n",
    "        gen_errors = []\n",
    "        for m in ms:\n",
    "        \n",
    "            training_vectors = get_training_examples(m, normal_flag)\n",
    "            test_vectors = get_test_examples(normal_flag)\n",
    "\n",
    "            H = get_hypothesis(training_vectors, C)\n",
    "\n",
    "            while H is None:\n",
    "                C = generate_concept()\n",
    "                H = get_hypothesis(training_vectors, C)\n",
    "\n",
    "            err_count = 0\n",
    "            for i in range(len(test_vectors)):\n",
    "                if get_label(H, test_vectors[i]) != get_label(C, test_vectors[i]):\n",
    "                    err_count += 1\n",
    "\n",
    "            gen_errors.append(round(float(err_count) / float(len(test_vectors)), 5))\n",
    "            if len(theoretical_errors) <= 4:\n",
    "                theoretical_errors.append(float(4)/float(m) * math.log((float(4)/delta)))\n",
    "        gen_total_errors.append(gen_errors)\n",
    "    \n",
    "    gen_conf_errors = get_confident_error(gen_total_errors, delta)\n",
    "    \n",
    "    return gen_conf_errors, theoretical_errors\n",
    "\n",
    "def show_plots(C, H, training_vectors, test_vectors):\n",
    "    plot_all(C, H, training_vectors)\n",
    "    plot_all(C, H, test_vectors)\n",
    "    \n",
    "def get_confident_error(gen_total_errors, delta):\n",
    "    gen_conf_errors = []\n",
    "#     print (len(gen_total_errors[0]))\n",
    "    for i in range(len(gen_total_errors[0])):\n",
    "        gen_errors = []\n",
    "        for j in range(len(gen_total_errors)):\n",
    "            gen_errors.append(gen_total_errors[j][i])\n",
    "#         print (gen_errors)\n",
    "        confidence = len(gen_errors) - (delta * len(gen_errors))\n",
    "        gen_errors = sorted(gen_errors)\n",
    "        gen_conf_errors.append(gen_errors[int(confidence)])\n",
    "    return gen_conf_errors\n"
   ]
  },
  {
   "cell_type": "markdown",
   "metadata": {
    "collapsed": true
   },
   "source": [
    "**Part B**: Use your code to estimate the generalization error with confidence parameter $\\delta=0.05$ for training sets of size $m$ where $m = 250, 500, 1000, 1250,$ and $1500$ and the data are comprised of points $(x,y)$ where the $x$- and $y$-values are sampled from the continuous uniform distribution $\\textrm{unif}(0,100)$. Make a **log-log** plot with $m$ on the horizontal axes and $\\epsilon$ on the vertical axis.  Additionally, overlay the theoretical PAC bound on your graph and discuss your results. "
   ]
  },
  {
   "cell_type": "code",
   "execution_count": 7,
   "metadata": {
    "collapsed": false
   },
   "outputs": [],
   "source": [
    "# run code for m = 250,500,1000,1250,1500\n",
    "import math\n",
    "ms = [250, 500, 1000, 1250, 1500]\n",
    "\n",
    "theoretical_errors = []\n",
    "\n",
    "gen_errors, theoretical_errors = get_generalization_errors(ms, 100, 0.05, normal_flag=False)"
   ]
  },
  {
   "cell_type": "code",
   "execution_count": 8,
   "metadata": {
    "collapsed": false,
    "scrolled": true
   },
   "outputs": [
    {
     "data": {
      "image/png": "[encoded data removed]",
      "text/plain": [
       "<matplotlib.figure.Figure at 0x107fa7c88>"
      ]
     },
     "metadata": {},
     "output_type": "display_data"
    }
   ],
   "source": [
    "# m>4/ε(log(4/δ))\n",
    "\n",
    "# print (theoretical_errors)\n",
    "# print (gen_errors)\n",
    "\n",
    "ax = plt.gca()\n",
    "ax.set_xscale('log')\n",
    "ax.set_yscale('log')\n",
    "plt.plot(ms, theoretical_errors,  color='k', marker='o', linestyle='-',\n",
    "        linewidth=2, markerfacecolor='r', label='theoretical error')\n",
    "plt.plot(ms, gen_errors, color='k', marker='o', linestyle='-',\n",
    "        linewidth=2, markerfacecolor='b', label='calculated error')\n",
    "\n",
    "\n",
    "plt.title('Uniform Distribution Plots')\n",
    "plt.ylabel('log scale - epsilon generalization errors')\n",
    "plt.xlabel('log scale - m number of training examples')\n",
    "plt.legend()\n",
    "plt.show()"
   ]
  },
  {
   "cell_type": "markdown",
   "metadata": {},
   "source": [
    "**Results:**  \n",
    "The graph shows that as the number of training examples increase, there is a decrease in the generalization error. The overlay of the theoretical PAC bound (in red) is above the calculated generalization errors (in blue) as the theoretical bound will be a worst case assumption of the hypothesis.  \n",
    "As expected, there is a decreasing trend in the graph as the model generalizes better for more training examples.  \n",
    "With increase in m, the two lines of the respective generalization errors start to converge."
   ]
  },
  {
   "cell_type": "markdown",
   "metadata": {
    "collapsed": true
   },
   "source": [
    "**Part C**: Repeat **Part B** where the data are comprised of points $(x,y)$ where the $x$- and $y$-values are sampled from the normal distribution with mean $\\mu = 50$ and standard deviation $\\sigma = 25$. Again, overlay the theoretical PAC bound on your graph and discuss your results. Do you expect to observe very different results than those observed in **Part B**?  "
   ]
  },
  {
   "cell_type": "code",
   "execution_count": 9,
   "metadata": {
    "collapsed": false
   },
   "outputs": [],
   "source": [
    "ms = [250, 500, 1000, 1250, 1500]\n",
    "\n",
    "theoretical_errors = []\n",
    "\n",
    "gen_errors, theoretical_errors = get_generalization_errors(ms, 100, 0.05, normal_flag=True)"
   ]
  },
  {
   "cell_type": "code",
   "execution_count": 10,
   "metadata": {
    "collapsed": false,
    "scrolled": false
   },
   "outputs": [
    {
     "data": {
      "image/png": "[encoded data removed]",
      "text/plain": [
       "<matplotlib.figure.Figure at 0x108e65e10>"
      ]
     },
     "metadata": {},
     "output_type": "display_data"
    }
   ],
   "source": [
    "# m>4/ε(log(4/δ))\n",
    "\n",
    "ax = plt.gca()\n",
    "ax.set_xscale('log')\n",
    "ax.set_yscale('log')\n",
    "\n",
    "plt.plot(ms, theoretical_errors,  color='k', marker='o', linestyle='-',\n",
    "        linewidth=2, markerfacecolor='r', label='theoretical error')\n",
    "plt.plot(ms, gen_errors, color='k', marker='o', linestyle='-',\n",
    "        linewidth=2, markerfacecolor='b', label='calculated error')\n",
    "\n",
    "\n",
    "plt.title('Normal Distribution Plots')\n",
    "plt.ylabel('log scale - epsilon generalization errors')\n",
    "plt.xlabel('log scale - m number of training examples')\n",
    "plt.legend()\n",
    "plt.show()"
   ]
  },
  {
   "cell_type": "markdown",
   "metadata": {},
   "source": [
    "**Results:**  \n",
    "The graph shows that as the number of training examples increase, there is a decrease in the generalization error.  \n",
    "As expected, there is a decreasing trend similar to Part B as the error is calculated based on number of misclassified examples and is not based on the distribution of the data points."
   ]
  },
  {
   "cell_type": "markdown",
   "metadata": {},
   "source": [
    "<center> <big> <big> <b> The above graphs were for 100 concepts. Now increasing the runs to 500, we can compare the two as follows, with similar results:</b> </center>"
   ]
  },
  {
   "cell_type": "code",
   "execution_count": 11,
   "metadata": {
    "collapsed": false,
    "scrolled": false
   },
   "outputs": [
    {
     "data": {
      "image/png": "[encoded data removed]",
      "text/plain": [
       "<matplotlib.figure.Figure at 0x108030358>"
      ]
     },
     "metadata": {},
     "output_type": "display_data"
    },
    {
     "data": {
      "image/png": "[encoded data removed]",
      "text/plain": [
       "<matplotlib.figure.Figure at 0x108a0dd68>"
      ]
     },
     "metadata": {},
     "output_type": "display_data"
    }
   ],
   "source": [
    "ms = [250, 500, 1000, 1250, 1500]\n",
    "\n",
    "theoretical_errors = []\n",
    "\n",
    "gen_errors, theoretical_errors = get_generalization_errors(ms, 500, 0.05, normal_flag=False)\n",
    "\n",
    "\n",
    "ax = plt.gca()\n",
    "ax.set_xscale('log')\n",
    "ax.set_yscale('log')\n",
    "\n",
    "plt.plot(ms, theoretical_errors,  color='k', marker='o', linestyle='-',\n",
    "        linewidth=2, markerfacecolor='r', label='theoretical error')\n",
    "plt.plot(ms, gen_errors, color='k', marker='o', linestyle='-',\n",
    "        linewidth=2, markerfacecolor='b', label='calculated error')\n",
    "\n",
    "\n",
    "plt.title('Uniform Distribution Plots')\n",
    "plt.ylabel('log scale - epsilon generalization errors')\n",
    "plt.xlabel('log scale - m number of training examples')\n",
    "plt.legend()\n",
    "plt.show()\n",
    "\n",
    "gen_errors, theoretical_errors = get_generalization_errors(ms, 500, 0.05, normal_flag=True)\n",
    "\n",
    "ax = plt.gca()\n",
    "ax.set_xscale('log')\n",
    "ax.set_yscale('log')\n",
    "\n",
    "plt.plot(ms, theoretical_errors,  color='k', marker='o', linestyle='-',\n",
    "        linewidth=2, markerfacecolor='r', label='theoretical error')\n",
    "plt.plot(ms, gen_errors, color='k', marker='o', linestyle='-',\n",
    "        linewidth=2, markerfacecolor='b', label='calculated error')\n",
    "\n",
    "\n",
    "plt.title('Normal Distribution Plots')\n",
    "plt.ylabel('log scale - epsilon generalization errors')\n",
    "plt.xlabel('log scale - m number of training examples')\n",
    "plt.legend()\n",
    "plt.show()"
   ]
  }
 ],
 "metadata": {
  "anaconda-cloud": {},
  "kernelspec": {
   "display_name": "Python [anaconda]",
   "language": "python",
   "name": "Python [anaconda]"
  },
  "language_info": {
   "codemirror_mode": {
    "name": "ipython",
    "version": 3
   },
   "file_extension": ".py",
   "mimetype": "text/x-python",
   "name": "python",
   "nbconvert_exporter": "python",
   "pygments_lexer": "ipython3",
   "version": "3.5.2"
  }
 },
 "nbformat": 4,
 "nbformat_minor": 2
}
