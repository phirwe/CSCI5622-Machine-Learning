{
 "cells": [
  {
   "cell_type": "markdown",
   "metadata": {},
   "source": [
    "# Lecture 7: Feature Engineering Solutions\n",
    "***\n",
    "\n",
    "<img src=\"figs/logregwordcloud.png\" width=1100 height=50>"
   ]
  },
  {
   "cell_type": "markdown",
   "metadata": {},
   "source": [
    "**Reminder**:  Go to the botttom of the notebook and shift-enter the [helper functions](#helpers)\n",
    "***\n"
   ]
  },
  {
   "cell_type": "markdown",
   "metadata": {},
   "source": [
    "\n",
    "The success of a machine learning algorithm on a predictive problem is highly dependent on the way you as the practitioner present the data. Consider the following example. \n",
    "\n",
    "### Problem 1: Intuition\n",
    "***\n",
    "Suppose that you want to train a model to predict whether it is possible to drive between two cities in a single day.  The raw data includes the latitude and longitude of the two cities and the training data is labeled with $\\texttt{Yes}$ for is drivable and $\\texttt{No}$ for is not drivable.  One particular training set my look like \n",
    "\n",
    "|$\\texttt{CITY 1 LAT.}$ | $\\texttt{CITY 1 LNG.}$ |$\\texttt{CITY 2 LAT.}$ | $\\texttt{CITY 2 LNG.}$ | $\\texttt{DRIVABLE}$? | \n",
    "|:----:|:----:|:----:|:----:|:----:|\n",
    "| 123.24 |46.71\t| 121.33| 47.34\t| Yes |\n",
    "|123.24\t|56.91\t|121.33\t|55.23\t|Yes |\n",
    "|123.24\t|46.71\t|121.33\t|55.34\t|No |\n",
    "|123.24\t|46.71\t|130.99\t|47.34\t|No |\n",
    "\n",
    "**Q**: Given the following features, do you expect a linear classifier like Logistic Regression to be successful? "
   ]
  },
  {
   "cell_type": "markdown",
   "metadata": {},
   "source": [
    "**A**: Probably not.  The issue here is that Logistic Regression will look at each of the features linearly and try to use a combination of each to make a prediction.  But notice that not a single one of the features is strongly correlated with the label.  It's clear that in order to make an accurate prediction the features have to interact, and they have to interact in a potentially complicated way.  "
   ]
  },
  {
   "cell_type": "markdown",
   "metadata": {},
   "source": [
    "**Q**: What features could you create that *would* be correlated with the correct classification? "
   ]
  },
  {
   "cell_type": "markdown",
   "metadata": {},
   "source": [
    "**A**: Somehow we have to encode an idea of distance between the two cities in order to make a prediction.  The most obvious answer is to use the given features to create a derived feature that encodes distance, i.e. \n",
    "\n",
    "$$\n",
    "\\texttt{Distance} = \\sqrt{(\\texttt{CITY 1 LAT.} -\\texttt{CITY 2 LAT.})^2 + (\\texttt{CITY 2 LNG.} -\\texttt{CITY 1 LNG.})^2 }\n",
    "$$\n",
    "\n",
    "If we convert the following measurements to miles then we have the following table \n",
    "\n",
    "|$\\texttt{DISTANCE}$ | $\\texttt{DRIVABLE}$? | \n",
    "|:----:|:----:|:----:|:----:|:----:|\n",
    "| 14\t| Yes |\n",
    "| 28\t|Yes |\n",
    "| 705   |No |\n",
    "| 2432  |No |\n",
    "\n",
    "Clearly, the derived feature of distance is strongly correlated with drivablility and will thus be a good feature to include in the model (in fact, you probably want to use this feature and dump the lat-long features entirely). "
   ]
  },
  {
   "cell_type": "markdown",
   "metadata": {},
   "source": [
    "**Q**: Could we come up with a process to do this automatically?  Next question:  should we come up with a process to do this automatically? "
   ]
  },
  {
   "cell_type": "markdown",
   "metadata": {},
   "source": [
    "**A**:  Meh... We could throw a bunch of derived polynomials terms into the mix and then do some feature selection method (we'll learn about Lasso next week) and see if it throws out the useless features.  But in this case we saved a lot of time by using common sense (i.e. domain knowledge). "
   ]
  },
  {
   "cell_type": "markdown",
   "metadata": {},
   "source": [
    "\n",
    "\n",
    "<br>\n",
    "\n",
    "### Problem 2: Transformations on Continuous Data \n",
    "***\n",
    "\n",
    "Consider the case when you're trying to model quality of life of a person from survey data which asks a multitude of things like $\\texttt{income}$, $\\texttt{education level}$, $\\texttt{num children}$, etc.  As part of data exploration, you might try plotting the distributions of the raw data by feature individually.  A histogram of a potential data set for income might look as follows:  \n"
   ]
  },
  {
   "cell_type": "code",
   "execution_count": 4,
   "metadata": {
    "collapsed": false,
    "scrolled": false
   },
   "outputs": [
    {
     "data": {
      "image/png": "[encoded data removed]",
      "text/plain": [
       "<matplotlib.figure.Figure at 0x1a0e3be0b8>"
      ]
     },
     "metadata": {},
     "output_type": "display_data"
    }
   ],
   "source": [
    "x_inc = income_data()\n",
    "fig, ax = plt.subplots(nrows=1, ncols=1, figsize=(12,6))\n",
    "n, bins, patches = ax.hist(x_inc, 15, normed=1, facecolor=mycolors[\"red\"], alpha=0.75, edgecolor=\"white\")\n",
    "ax.set_xlabel(\"income in tens of thousands\", fontsize=16)\n",
    "ax.set_ylabel(\"frequency\", fontsize=16);\n",
    "ax.set_title(\"Income Frequency\", fontsize=20);\n",
    "ax.grid(alpha=0.25)"
   ]
  },
  {
   "cell_type": "markdown",
   "metadata": {},
   "source": [
    "This looks like we would expect for income.  There are lots of people at the low end of the spectrum, a few more in the middle, and very few in the high income categories.  \n",
    "\n",
    "There are two things to consider here.  First, lots of ML models assume that your input features are generally normally distributed.  Second, from a feature engineering perspective, we can think about how much income actually affects happiness.  It seems reasonable to believe that once you get to a certain level, increasing income has a diminishing effect on happiness.  \n",
    "\n",
    "Both of these viewpoints motivate us to try a log transformation on the data. "
   ]
  },
  {
   "cell_type": "code",
   "execution_count": 5,
   "metadata": {
    "collapsed": false,
    "scrolled": false
   },
   "outputs": [
    {
     "data": {
      "image/png": "[encoded data removed]",
      "text/plain": [
       "<matplotlib.figure.Figure at 0x1a0e6c57f0>"
      ]
     },
     "metadata": {},
     "output_type": "display_data"
    }
   ],
   "source": [
    "x_inc_log = np.log(x_inc)\n",
    "fig, ax = plt.subplots(nrows=1, ncols=1, figsize=(12,6))\n",
    "n, bins, patches = ax.hist(x_inc_log, 15, normed=1, facecolor=mycolors[\"blue\"], alpha=0.75, edgecolor=\"white\")\n",
    "ax.set_xlabel(\"log(income in thousands)\", fontsize=16)\n",
    "ax.set_ylabel(\"frequency\", fontsize=16);\n",
    "ax.set_title(\"Income Frequency\", fontsize=20);\n",
    "ax.grid(alpha=0.25)"
   ]
  },
  {
   "cell_type": "markdown",
   "metadata": {},
   "source": [
    "This results in a distribution that looks fairly Gaussian, which might perform better in an machine learning model. \n",
    "\n",
    "<br>\n",
    "\n",
    "### Problem 3: Categorical Data \n",
    "*** \n",
    "\n",
    "Encoding categorical data can be tricky.  Consider the case when you have a raw feature in your model that corresponds to a person's hair color.  Possible values might be $\\texttt{blonde}$, $\\texttt{brunette}$, $\\texttt{redhead}$.  How should we encode these as numerical models in a ML algorithm? \n",
    "\n",
    "A natural (but misleading) thing to do would be to assign an integer to each possible value of the feature.  For instance, we could do \n",
    "\n",
    "|Religion| Feature|\n",
    "|:-------:|:------:|\n",
    "|blonde| 0 |\n",
    "|brunette | 1 | \n",
    "|redhead | 2|\n",
    "\n",
    "**Q**:  What is potentially wrong with this encoding, particularly in a regression context? "
   ]
  },
  {
   "cell_type": "markdown",
   "metadata": {},
   "source": [
    "**A**: The problem is that we imposed on the possible values an ordinal ordering which does not exist, i.e. blonde > brunette > redhead.   "
   ]
  },
  {
   "cell_type": "markdown",
   "metadata": {},
   "source": [
    "One way to fix this is create binary features corresponding to each religion.  That is, we create a binary $\\texttt{IsBlonde}$ variable, a binary $\\texttt{IsBrunette}$ variable, etc.  We then have \n",
    "\n",
    "|Religion| $\\texttt{IsBlonde}$ | $\\texttt{IsBrunette}$ | $\\texttt{IsRedhead}$| \n",
    "|:-------:|:------:|:------:|:------:|\n",
    "|Blonde| 1 | 0 | 0 | \n",
    "|Brunette | 0 | 1 | 0 | \n",
    "| Redhead | 0| 0 | 1 \n",
    "\n",
    "This process is called *one-hot-encoding* and is very frequently used to encode categorical data. \n"
   ]
  },
  {
   "cell_type": "markdown",
   "metadata": {},
   "source": [
    "<br><br>\n",
    "\n",
    "\n",
    "### Problem 4: Temporal Data \n",
    "*** \n",
    "\n",
    "Suppose that you're trying to train a model to predict that amount of foot-traffic at the 29th Street Mall.  Mall managers might be interested in such a model to predict the amount of janitorial and security services they need to employ at different times.  \n",
    "\n",
    "Suppose your training data consists of measurements of the amount of foot traffic at the mall and the date/time stamps that they were measured.  For instance, a training set might look like \n",
    "\n",
    "|$\\texttt{date_time_stamp}$| $\\texttt{FootTraffic}$|\n",
    "|:-------:|:------:|\n",
    "|$\\texttt{2015-11-12-20:00}$| 70|\n",
    "|$\\texttt{2015-06-10-21:00}$| 100|\n",
    "|$\\texttt{2015-08-02-12:00}$| 120|\n",
    "|$\\texttt{2015-12-22-12:00}$| 20|\n",
    "\n",
    "\n",
    "**Q**: How might you create meaningful features on the $\\texttt{date_time_stamp}$ data that would be useful for prediction? \n"
   ]
  },
  {
   "cell_type": "markdown",
   "metadata": {},
   "source": [
    "**A**: You could do loads of things.  For starters you probably want to separate the dates and times.  Then you might create a feature like $\\texttt{isCloseToHoliday}$ or features that indicate which season it is (since foot traffic might go up during summer when all of the mall rats are out of school). "
   ]
  },
  {
   "cell_type": "markdown",
   "metadata": {},
   "source": [
    "\n",
    "\n",
    "<br>\n",
    "<br>\n",
    "\n",
    "### Problem 5: Part-of-Speech-Tagging\n",
    "*This problem and associated code was adapted from Jordan Boyd-Graber*\n",
    "***\n",
    "\n",
    "In computational linguistics, part-of-speech tagging (POST) is the process of marking a word in a text as a particular part of speech (e.g. noun, verb, adjective, etc), based on both its definition and its context. \n",
    "\n",
    "In this problem we will work with the <a href=\"https://en.wikipedia.org/wiki/Brown_Corpus\">Brown Corpus</a>, a compilation of 500 samples of English-language text totaling over a million words. The Brown Corpus is available through python's <a href=\"http://www.nltk.org/\">Natural Language Toolkit</a>.  Each word in the corpus has been tagged as: \n",
    "\n",
    "|type|symbol|\n",
    "|:--:|:----:|\n",
    "|adjective| JJ|\n",
    "|noun|NN|\n",
    "|pronoun|PP|\n",
    "|adverb|RB|\n",
    "|verb|VB|\n",
    "\n",
    "For the classification we will use simple Logistic Regression and focus on making iterative improvements by adding good features to our model.  The code for this problem is located in the helper functions section below.  Scroll down now and take a look at the code. "
   ]
  },
  {
   "cell_type": "markdown",
   "metadata": {},
   "source": [
    "**Creating a Baseline**: When starting to evaluate the usefulness of features, it is usually a good idea to create a baseline.  That is, run your model with little to no features and see how the model performs.  The following code will run logistic regression with only a bias feature. "
   ]
  },
  {
   "cell_type": "code",
   "execution_count": 6,
   "metadata": {
    "collapsed": false
   },
   "outputs": [
    {
     "name": "stdout",
     "output_type": "stream",
     "text": [
      "Example Features:\n",
      "\n",
      "\n",
      "\n",
      "Training Set\n",
      "-------------------------\n",
      "Accuracy: 0.526002\n",
      "\n",
      "Confusion Matrix:\n",
      "\n",
      "JJ\tNN\tPP\tRB\tVB\n",
      "0\t522\t0\t0\t0\n",
      "0\t2205\t0\t0\t0\n",
      "0\t278\t0\t0\t0\n",
      "0\t179\t0\t0\t0\n",
      "0\t1008\t0\t0\t0\n",
      "\n",
      "Some misclassified examples:\n",
      "\n",
      "word: said        prediced pos: NN      true pos: VB\n",
      "word: he          prediced pos: NN      true pos: PP\n",
      "word: it          prediced pos: NN      true pos: PP\n",
      "word: his         prediced pos: NN      true pos: PP\n",
      "word: He          prediced pos: NN      true pos: PP\n",
      "word: its         prediced pos: NN      true pos: PP\n",
      "word: It          prediced pos: NN      true pos: PP\n",
      "word: federal     prediced pos: NN      true pos: JJ\n",
      "word: medical     prediced pos: NN      true pos: JJ\n",
      "word: new         prediced pos: NN      true pos: JJ\n",
      "\n",
      "Validation Set\n",
      "--------------------\n",
      "Accuracy: 0.560999\n",
      "\n",
      "Confusion Matrix:\n",
      "\n",
      "JJ\tNN\tPP\tRB\tVB\n",
      "0\t129\t0\t0\t0\n",
      "0\t584\t0\t0\t0\n",
      "0\t59\t0\t0\t0\n",
      "0\t35\t0\t0\t0\n",
      "0\t234\t0\t0\t0\n",
      "\n",
      "Some misclassified examples:\n",
      "\n",
      "word: said        prediced pos: NN      true pos: VB\n",
      "word: he          prediced pos: NN      true pos: PP\n",
      "word: He          prediced pos: NN      true pos: PP\n",
      "word: made        prediced pos: NN      true pos: VB\n",
      "word: it          prediced pos: NN      true pos: PP\n",
      "word: its         prediced pos: NN      true pos: PP\n",
      "word: his         prediced pos: NN      true pos: PP\n",
      "word: It          prediced pos: NN      true pos: PP\n",
      "word: local       prediced pos: NN      true pos: JJ\n",
      "word: their       prediced pos: NN      true pos: PP\n"
     ]
    }
   ],
   "source": [
    "part_of_speech(limit=500)"
   ]
  },
  {
   "cell_type": "markdown",
   "metadata": {},
   "source": [
    "OK, so now we know that simply making predictions based on the number of occurrences of each type of speech leads to a *training accuracy* of around 52% and a *validation accuracy* of around 56%.  Hopefully we can improve on this by actually giving the model some useful features.  \n",
    "\n",
    "The obvious choice is to actually tell the model what the words is. "
   ]
  },
  {
   "cell_type": "code",
   "execution_count": 7,
   "metadata": {
    "collapsed": false
   },
   "outputs": [
    {
     "name": "stdout",
     "output_type": "stream",
     "text": [
      "Example Features:\n",
      "\n",
      "County\n",
      "Grand\n",
      "Jury\n",
      "said\n",
      "investigation\n",
      "recent\n",
      "primary\n",
      "election\n",
      "produced\n",
      "evidence\n",
      "irregularities\n",
      "took\n",
      "place\n",
      "\n",
      "\n",
      "Training Set\n",
      "-------------------------\n",
      "Accuracy: 0.962309\n",
      "\n",
      "Confusion Matrix:\n",
      "\n",
      "JJ\tNN\tPP\tRB\tVB\n",
      "515\t6\t0\t0\t1\n",
      "12\t2186\t1\t1\t5\n",
      "0\t9\t269\t0\t0\n",
      "6\t75\t0\t98\t0\n",
      "2\t38\t0\t2\t966\n",
      "\n",
      "Some misclassified examples:\n",
      "\n",
      "word: increase    prediced pos: NN      true pos: VB\n",
      "word: public      prediced pos: JJ      true pos: NN\n",
      "word: back        prediced pos: RB      true pos: VB\n",
      "word: Executive   prediced pos: NN      true pos: JJ\n",
      "word: issue       prediced pos: NN      true pos: VB\n",
      "word: report      prediced pos: NN      true pos: VB\n",
      "word: further     prediced pos: JJ      true pos: RB\n",
      "word: place       prediced pos: NN      true pos: VB\n",
      "word: pay         prediced pos: VB      true pos: NN\n",
      "word: plans       prediced pos: NN      true pos: VB\n",
      "\n",
      "Validation Set\n",
      "--------------------\n",
      "Accuracy: 0.792507\n",
      "\n",
      "Confusion Matrix:\n",
      "\n",
      "JJ\tNN\tPP\tRB\tVB\n",
      "63\t65\t0\t1\t0\n",
      "4\t574\t0\t0\t6\n",
      "0\t6\t53\t0\t0\n",
      "2\t19\t0\t14\t0\n",
      "0\t113\t0\t0\t121\n",
      "\n",
      "Some misclassified examples:\n",
      "\n",
      "word: you         prediced pos: NN      true pos: PP\n",
      "word: past        prediced pos: NN      true pos: JJ\n",
      "word: getting     prediced pos: NN      true pos: VB\n",
      "word: agreed      prediced pos: NN      true pos: VB\n",
      "word: North       prediced pos: NN      true pos: JJ\n",
      "word: future      prediced pos: NN      true pos: JJ\n",
      "word: going       prediced pos: NN      true pos: VB\n",
      "word: certain     prediced pos: NN      true pos: JJ\n",
      "word: lacking     prediced pos: NN      true pos: VB\n",
      "word: permitting  prediced pos: NN      true pos: VB\n"
     ]
    }
   ],
   "source": [
    "part_of_speech(limit=500, word=True)"
   ]
  },
  {
   "cell_type": "markdown",
   "metadata": {},
   "source": [
    "OK, that seems more reasonable.  Now you should have a training accuracy of around 96% and a validation accuracy of around 79%.  It looks like using the words alone as features induces some overfitting on the training set. Let's see if we can think of new features that we could include that might help.  \n",
    "\n",
    "Here is where you have to use your brain to do feature engineering!  \n",
    "\n",
    "The code has output some useful information that you can use to do error analysis and hopefully come up with some useful features.  \n",
    "\n",
    "The top of the output gives you examples of the features that were used for several examples.  Since we only used the words as features, each example only includes the word itself. \n",
    "\n",
    "The next useful piece of information is shown in the *confusion matrix*. Sci-Kit Learn's confusion matrix function returns a matric $C$ such that $C_{ij}$ gives the number of examples known to be in group $i$ that were labeled as group $j$.  From the confusion matrix in the output we see that, in particular, the model is classifying a lot of words that should be verbs as nouns.   \n",
    "\n",
    "Now, based on this knowledge you might have some ideas about new features you can include to combat this error, but maybe you don't?  It's almost always a good idea to dig into the actual data and look at *specific* examples that your model has misclassified.  To help you with this, the code has printed some of the most common misclassifications.  \n",
    "\n",
    "**Q**: Looking at the common misclassifications, can you think of a good new feature to add? "
   ]
  },
  {
   "cell_type": "markdown",
   "metadata": {},
   "source": [
    "Add your new feature to the model and see how it does! "
   ]
  },
  {
   "cell_type": "code",
   "execution_count": 8,
   "metadata": {
    "collapsed": false
   },
   "outputs": [
    {
     "name": "stdout",
     "output_type": "stream",
     "text": [
      "Example Features:\n",
      "\n",
      "\n",
      "\n",
      "Training Set\n",
      "-------------------------\n",
      "Accuracy: 0.526002\n",
      "\n",
      "Confusion Matrix:\n",
      "\n",
      "JJ\tNN\tPP\tRB\tVB\n",
      "0\t522\t0\t0\t0\n",
      "0\t2205\t0\t0\t0\n",
      "0\t278\t0\t0\t0\n",
      "0\t179\t0\t0\t0\n",
      "0\t1008\t0\t0\t0\n",
      "\n",
      "Some misclassified examples:\n",
      "\n",
      "word: said        prediced pos: NN      true pos: VB\n",
      "word: he          prediced pos: NN      true pos: PP\n",
      "word: it          prediced pos: NN      true pos: PP\n",
      "word: his         prediced pos: NN      true pos: PP\n",
      "word: He          prediced pos: NN      true pos: PP\n",
      "word: its         prediced pos: NN      true pos: PP\n",
      "word: It          prediced pos: NN      true pos: PP\n",
      "word: federal     prediced pos: NN      true pos: JJ\n",
      "word: medical     prediced pos: NN      true pos: JJ\n",
      "word: new         prediced pos: NN      true pos: JJ\n",
      "\n",
      "Validation Set\n",
      "--------------------\n",
      "Accuracy: 0.560999\n",
      "\n",
      "Confusion Matrix:\n",
      "\n",
      "JJ\tNN\tPP\tRB\tVB\n",
      "0\t129\t0\t0\t0\n",
      "0\t584\t0\t0\t0\n",
      "0\t59\t0\t0\t0\n",
      "0\t35\t0\t0\t0\n",
      "0\t234\t0\t0\t0\n",
      "\n",
      "Some misclassified examples:\n",
      "\n",
      "word: said        prediced pos: NN      true pos: VB\n",
      "word: he          prediced pos: NN      true pos: PP\n",
      "word: He          prediced pos: NN      true pos: PP\n",
      "word: made        prediced pos: NN      true pos: VB\n",
      "word: it          prediced pos: NN      true pos: PP\n",
      "word: its         prediced pos: NN      true pos: PP\n",
      "word: his         prediced pos: NN      true pos: PP\n",
      "word: It          prediced pos: NN      true pos: PP\n",
      "word: local       prediced pos: NN      true pos: JJ\n",
      "word: their       prediced pos: NN      true pos: PP\n"
     ]
    }
   ],
   "source": [
    "part_of_speech(limit=500, )"
   ]
  },
  {
   "cell_type": "markdown",
   "metadata": {},
   "source": [
    "**Q**:  Did your model do better on the test data?  Take a look at the confusion matrix and the examples of misclassifications and see if you can think of another new feature to add! "
   ]
  },
  {
   "cell_type": "code",
   "execution_count": 9,
   "metadata": {
    "collapsed": false
   },
   "outputs": [
    {
     "name": "stdout",
     "output_type": "stream",
     "text": [
      "Example Features:\n",
      "\n",
      "\n",
      "\n",
      "Training Set\n",
      "-------------------------\n",
      "Accuracy: 0.526002\n",
      "\n",
      "Confusion Matrix:\n",
      "\n",
      "JJ\tNN\tPP\tRB\tVB\n",
      "0\t522\t0\t0\t0\n",
      "0\t2205\t0\t0\t0\n",
      "0\t278\t0\t0\t0\n",
      "0\t179\t0\t0\t0\n",
      "0\t1008\t0\t0\t0\n",
      "\n",
      "Some misclassified examples:\n",
      "\n",
      "word: said        prediced pos: NN      true pos: VB\n",
      "word: he          prediced pos: NN      true pos: PP\n",
      "word: it          prediced pos: NN      true pos: PP\n",
      "word: his         prediced pos: NN      true pos: PP\n",
      "word: He          prediced pos: NN      true pos: PP\n",
      "word: its         prediced pos: NN      true pos: PP\n",
      "word: It          prediced pos: NN      true pos: PP\n",
      "word: federal     prediced pos: NN      true pos: JJ\n",
      "word: medical     prediced pos: NN      true pos: JJ\n",
      "word: new         prediced pos: NN      true pos: JJ\n",
      "\n",
      "Validation Set\n",
      "--------------------\n",
      "Accuracy: 0.560999\n",
      "\n",
      "Confusion Matrix:\n",
      "\n",
      "JJ\tNN\tPP\tRB\tVB\n",
      "0\t129\t0\t0\t0\n",
      "0\t584\t0\t0\t0\n",
      "0\t59\t0\t0\t0\n",
      "0\t35\t0\t0\t0\n",
      "0\t234\t0\t0\t0\n",
      "\n",
      "Some misclassified examples:\n",
      "\n",
      "word: said        prediced pos: NN      true pos: VB\n",
      "word: he          prediced pos: NN      true pos: PP\n",
      "word: He          prediced pos: NN      true pos: PP\n",
      "word: made        prediced pos: NN      true pos: VB\n",
      "word: it          prediced pos: NN      true pos: PP\n",
      "word: its         prediced pos: NN      true pos: PP\n",
      "word: his         prediced pos: NN      true pos: PP\n",
      "word: It          prediced pos: NN      true pos: PP\n",
      "word: local       prediced pos: NN      true pos: JJ\n",
      "word: their       prediced pos: NN      true pos: PP\n"
     ]
    }
   ],
   "source": [
    "part_of_speech(limit=500, )"
   ]
  },
  {
   "cell_type": "markdown",
   "metadata": {},
   "source": [
    "**Q**:  What's your performance like now?  Repeat this iterative process of adding new features until you're happy with your model (or you've exhausted the number of features available in the code) "
   ]
  },
  {
   "cell_type": "code",
   "execution_count": 10,
   "metadata": {
    "collapsed": false
   },
   "outputs": [
    {
     "name": "stdout",
     "output_type": "stream",
     "text": [
      "Example Features:\n",
      "\n",
      "\n",
      "\n",
      "Training Set\n",
      "-------------------------\n",
      "Accuracy: 0.526002\n",
      "\n",
      "Confusion Matrix:\n",
      "\n",
      "JJ\tNN\tPP\tRB\tVB\n",
      "0\t522\t0\t0\t0\n",
      "0\t2205\t0\t0\t0\n",
      "0\t278\t0\t0\t0\n",
      "0\t179\t0\t0\t0\n",
      "0\t1008\t0\t0\t0\n",
      "\n",
      "Some misclassified examples:\n",
      "\n",
      "word: said        prediced pos: NN      true pos: VB\n",
      "word: he          prediced pos: NN      true pos: PP\n",
      "word: it          prediced pos: NN      true pos: PP\n",
      "word: his         prediced pos: NN      true pos: PP\n",
      "word: He          prediced pos: NN      true pos: PP\n",
      "word: its         prediced pos: NN      true pos: PP\n",
      "word: It          prediced pos: NN      true pos: PP\n",
      "word: federal     prediced pos: NN      true pos: JJ\n",
      "word: medical     prediced pos: NN      true pos: JJ\n",
      "word: new         prediced pos: NN      true pos: JJ\n",
      "\n",
      "Validation Set\n",
      "--------------------\n",
      "Accuracy: 0.560999\n",
      "\n",
      "Confusion Matrix:\n",
      "\n",
      "JJ\tNN\tPP\tRB\tVB\n",
      "0\t129\t0\t0\t0\n",
      "0\t584\t0\t0\t0\n",
      "0\t59\t0\t0\t0\n",
      "0\t35\t0\t0\t0\n",
      "0\t234\t0\t0\t0\n",
      "\n",
      "Some misclassified examples:\n",
      "\n",
      "word: said        prediced pos: NN      true pos: VB\n",
      "word: he          prediced pos: NN      true pos: PP\n",
      "word: He          prediced pos: NN      true pos: PP\n",
      "word: made        prediced pos: NN      true pos: VB\n",
      "word: it          prediced pos: NN      true pos: PP\n",
      "word: its         prediced pos: NN      true pos: PP\n",
      "word: his         prediced pos: NN      true pos: PP\n",
      "word: It          prediced pos: NN      true pos: PP\n",
      "word: local       prediced pos: NN      true pos: JJ\n",
      "word: their       prediced pos: NN      true pos: PP\n"
     ]
    }
   ],
   "source": [
    "part_of_speech(limit=500, )"
   ]
  },
  {
   "cell_type": "markdown",
   "metadata": {},
   "source": [
    "\n",
    "\n",
    "<br>\n",
    "<br>\n",
    "\n",
    "### Problem 6: Building Multiple Features in SKLearn with Custom Transformers and FeatureUnion\n",
    "***\n",
    "\n",
    "In the Feature Engineering assignment your goal is to hand-craft features to predict whether statements about TV shows contain spoilers or not.  There are endless possibilities for useful features that you might want to try out, but for those of you not familiar with text-learning in sklearn just the process of getting up and running might seem daunting.  In this problem I will demonstrate the use of two particular objects that may make your life significantly easier: the generic Transformer and the FeatureUnion pipeline.  We will also make use of the CountVectorizer which is similar to the HashVectorizer seen in Problem 5.  If you have significant experience in text-learning then you have likely seen these things before (and/or know better things) and can safely skip this exercise. \n",
    "\n",
    "For the purpose of this discussion we will assume, like in the homework, that our data is a list of sentence strings.  For instance, we might have: "
   ]
  },
  {
   "cell_type": "code",
   "execution_count": 11,
   "metadata": {
    "collapsed": true
   },
   "outputs": [],
   "source": [
    "train = [\n",
    "    \"The quick brown fox jumped over the lazy lazy dog\",\n",
    "    \"There is that dog and fox again\"\n",
    "]"
   ]
  },
  {
   "cell_type": "markdown",
   "metadata": {},
   "source": [
    "If we want to turn these data into a vectorized bag-of-word representation we can use an instance of **CountVectorizer, which is a simple transformer that turns raw text into bag-or-words vectors.**  To make the number of word-features more manageable I will call CountVectorizer with a list of stop words to be removed.  \n",
    "\n",
    "To transform the data into a matrix I simply call the $\\texttt{fit_transform}$ method on the data. "
   ]
  },
  {
   "cell_type": "code",
   "execution_count": 12,
   "metadata": {
    "collapsed": true
   },
   "outputs": [],
   "source": [
    "from sklearn.feature_extraction.text import CountVectorizer\n",
    "\n",
    "bag_of_words = CountVectorizer(stop_words='english')\n",
    "X = bag_of_words.fit_transform(train)"
   ]
  },
  {
   "cell_type": "markdown",
   "metadata": {},
   "source": [
    "If I want to see the names of the specific features created (and important for our purpose, the order in which they're encoded) I can call the $\\texttt{get_feature_names}$ method. "
   ]
  },
  {
   "cell_type": "code",
   "execution_count": 13,
   "metadata": {
    "collapsed": false
   },
   "outputs": [
    {
     "name": "stdout",
     "output_type": "stream",
     "text": [
      "The named features are  ['brown', 'dog', 'fox', 'jumped', 'lazy', 'quick']\n"
     ]
    }
   ],
   "source": [
    "print(\"The named features are \", bag_of_words.get_feature_names())"
   ]
  },
  {
   "cell_type": "markdown",
   "metadata": {},
   "source": [
    "Notice that CountVectorizer removed most of the common words like \"the\", \"there\", \"is\" and \"and\" and stores the important words in alphabetical order. \n",
    "\n",
    "Let's check the type and shape of the matrix produced by the transformer. "
   ]
  },
  {
   "cell_type": "code",
   "execution_count": 14,
   "metadata": {
    "collapsed": false
   },
   "outputs": [
    {
     "name": "stdout",
     "output_type": "stream",
     "text": [
      "X has type  <class 'scipy.sparse.csr.csr_matrix'>\n",
      "X has shape  (2, 6)\n"
     ]
    }
   ],
   "source": [
    "print(\"X has type \", type(X))\n",
    "print(\"X has shape \", X.shape)"
   ]
  },
  {
   "cell_type": "markdown",
   "metadata": {},
   "source": [
    "So CountVectorizer returns our vectorized features as a sparse matrix.  This makes sense since most feature vectors in text applications only contain a handful of vocabulary words and are therefore very sparse. \n",
    "\n",
    "Finally, the matrix X has two rows and six columns.  Each row corresponds to a training example (a sentence) and each column to a word-feature with the order corresponding to the list returned by $\\texttt{get_feature_names}$. \n",
    "\n",
    "Let's look at the matrix and see if it does what we think it's doing. "
   ]
  },
  {
   "cell_type": "code",
   "execution_count": 15,
   "metadata": {
    "collapsed": false
   },
   "outputs": [
    {
     "name": "stdout",
     "output_type": "stream",
     "text": [
      "[[1 1 1 1 2 1]\n",
      " [0 1 1 0 0 0]]\n"
     ]
    }
   ],
   "source": [
    "print(X.todense())"
   ]
  },
  {
   "cell_type": "markdown",
   "metadata": {},
   "source": [
    "The first row of X should refer to the first sentence in $\\texttt{train}$"
   ]
  },
  {
   "cell_type": "code",
   "execution_count": 16,
   "metadata": {
    "collapsed": false
   },
   "outputs": [
    {
     "name": "stdout",
     "output_type": "stream",
     "text": [
      "The quick brown fox jumped over the lazy lazy dog\n"
     ]
    }
   ],
   "source": [
    "print(train[0])"
   ]
  },
  {
   "cell_type": "markdown",
   "metadata": {},
   "source": [
    "Notice that the first column refers to instances of \"brown\", and the fifth column refers to instances of \"lazy\".  OK, so there's an example of a simple canned transformer that we can apply to raw text-data.  But what if we want to craft something a little less standard?  What if, for instance, we're convinced that the number of times the characters \"x\", \"y\", and \"z\" appear in a sentence is somehow an important feature (probably not, but just go with it).  How could add these features to our data matrix?   \n",
    "\n",
    "There are definitely simple hacky ways to do this, but one slick way is to write your own custom transformer.  This transformer will take in raw text-data, turn them into numeric feature vectors (counts of the number of \"x\", \"y\", and \"z\"s) and return the matrix of transformed data.  One such transformer might look as follows  \n"
   ]
  },
  {
   "cell_type": "code",
   "execution_count": 17,
   "metadata": {
    "collapsed": true
   },
   "outputs": [],
   "source": [
    "from sklearn.base import BaseEstimator, TransformerMixin\n",
    "\n",
    "class XYZTransformer(BaseEstimator, TransformerMixin):\n",
    "    \n",
    "    def __init__(self):\n",
    "        pass\n",
    "    \n",
    "    def fit(self, examples):\n",
    "        # return self and nothing else \n",
    "        return self\n",
    "    \n",
    "    def transform(self, examples):\n",
    "        \n",
    "        import numpy as np \n",
    "        from scipy.sparse import csr_matrix\n",
    "        \n",
    "        letters = ['x', 'y', 'z']\n",
    "         \n",
    "        # Initiaize matrix \n",
    "        X = np.zeros((len(examples), len(letters)))\n",
    "        \n",
    "        # Loop over examples and count letters \n",
    "        for ii, x in enumerate(examples):\n",
    "            X[ii,:] = np.array([x.count(letter) for letter in letters])\n",
    "            \n",
    "        return csr_matrix(X) "
   ]
  },
  {
   "cell_type": "markdown",
   "metadata": {},
   "source": [
    "Essentially we're writing a class that takes in the type of data we expect, transforms it the way we expect, and returns it the way we expect.  One thing to note is that by convention the transformer contains a $\\texttt{fit}$ method that only results $\\texttt{self}$.  All of the magic actually happens in the $\\texttt{transform}$ method. \n",
    "\n",
    "Let's test it out on our simple training data and see if it does what we expect.  Remember that the sentences in the training data are "
   ]
  },
  {
   "cell_type": "code",
   "execution_count": 18,
   "metadata": {
    "collapsed": false
   },
   "outputs": [
    {
     "name": "stdout",
     "output_type": "stream",
     "text": [
      "The quick brown fox jumped over the lazy lazy dog\n",
      "There is that dog and fox again\n"
     ]
    }
   ],
   "source": [
    "print(train[0])\n",
    "print(train[1])"
   ]
  },
  {
   "cell_type": "code",
   "execution_count": 19,
   "metadata": {
    "collapsed": false
   },
   "outputs": [
    {
     "name": "stdout",
     "output_type": "stream",
     "text": [
      "[[ 1.  2.  2.]\n",
      " [ 1.  0.  0.]]\n"
     ]
    }
   ],
   "source": [
    "# Create an instance of the XYZTransformer \n",
    "xyz = XYZTransformer()\n",
    "\n",
    "# Fit it to our data \n",
    "Y = xyz.fit_transform(train)\n",
    "\n",
    "# Print a dense version of the matrix \n",
    "print(Y.todense())"
   ]
  },
  {
   "cell_type": "markdown",
   "metadata": {},
   "source": [
    "Note that the first row (corresponding to the first sentence in the data) indicates that there is 1 x, 2 y's, and 2 z's in the first sentence, which you can verify is correct.  Similarly, the second row indicates that there is a single x (from \"fox\") in the sentence and no y's or z's. \n",
    "\n",
    "OK, so you've built your first transformer.  Now, let's say we want to combine the bag-of-words vectors and the letter features into a single data matrix.  We can do this with a particular class called a $\\texttt{FeatureUnion}$.  If you're familiar with sklearn's pipelines, know that a $\\texttt{FeatureUnion}$ is a pipeline specifically designed for transformer objects. \n",
    "\n",
    "Now we'll combine our two transformers into a mega-transformer that will zip all of our features into a nice package.  It might look as follows: "
   ]
  },
  {
   "cell_type": "code",
   "execution_count": 20,
   "metadata": {
    "collapsed": true
   },
   "outputs": [],
   "source": [
    "from sklearn.pipeline import FeatureUnion\n",
    "\n",
    "allmyfeatures = FeatureUnion([\n",
    "        (\"bag-of-words\", CountVectorizer(stop_words='english')),\n",
    "        (\"letter-counts\", XYZTransformer())\n",
    "    ])"
   ]
  },
  {
   "cell_type": "markdown",
   "metadata": {},
   "source": [
    "Now we'll call our mega-transformer on the original data, and hopefully get a sparse matrix out that encapsulates all of the features. "
   ]
  },
  {
   "cell_type": "code",
   "execution_count": 21,
   "metadata": {
    "collapsed": false
   },
   "outputs": [
    {
     "name": "stdout",
     "output_type": "stream",
     "text": [
      "Z has type  <class 'scipy.sparse.csr.csr_matrix'>\n",
      "Z has shape  (2, 9)\n"
     ]
    }
   ],
   "source": [
    "Z = allmyfeatures.fit_transform(train)\n",
    "print(\"Z has type \", type(Z))\n",
    "print(\"Z has shape \", Z.shape)"
   ]
  },
  {
   "cell_type": "markdown",
   "metadata": {},
   "source": [
    "Note that the combined data matrix Z is again a csr matrix (by design) and has two rows and nine columns.  The two rows again correspond to the two pieces of data in the train set, and the nine columns correspond to the six bag-of-word features from CountVectorizer and the three letter count features from XYZTransformer.  If we print a dense version of Z ... "
   ]
  },
  {
   "cell_type": "code",
   "execution_count": 22,
   "metadata": {
    "collapsed": false
   },
   "outputs": [
    {
     "name": "stdout",
     "output_type": "stream",
     "text": [
      "[[ 1.  1.  1.  1.  2.  1.  1.  2.  2.]\n",
      " [ 0.  1.  1.  0.  0.  0.  1.  0.  0.]]\n"
     ]
    }
   ],
   "source": [
    "print(Z.todense())"
   ]
  },
  {
   "cell_type": "markdown",
   "metadata": {},
   "source": [
    "you will see that it looks exactly like the data matrices X and Y concatenated side-by-side. \n",
    "\n",
    "This is certainly not the only way to combine features from different transformers, but in my experience it is definitely one of the cleanest, especially when working with many types of hand-crafted features. "
   ]
  },
  {
   "cell_type": "markdown",
   "metadata": {},
   "source": [
    "<br><br><br><br>\n",
    "<br><br><br><br>\n",
    "<br><br><br><br>\n",
    "<br><br><br><br>\n",
    "<br><br><br><br>\n",
    "\n",
    "<a id='helpers'></a>\n",
    "\n",
    "<br> \n",
    "\n",
    "### Helper Functions\n",
    "***"
   ]
  },
  {
   "cell_type": "code",
   "execution_count": 3,
   "metadata": {
    "collapsed": false
   },
   "outputs": [
    {
     "name": "stdout",
     "output_type": "stream",
     "text": [
      "[nltk_data] Downloading package wordnet to /Users/poorwa/nltk_data...\n",
      "[nltk_data]   Package wordnet is already up-to-date!\n",
      "[nltk_data] Downloading package brown to /Users/poorwa/nltk_data...\n",
      "[nltk_data]   Package brown is already up-to-date!\n"
     ]
    },
    {
     "data": {
      "text/html": [
       "\n",
       "<style>\n",
       ".MathJax nobr>span.math>span{border-left-width:0 !important};\n",
       "</style>\n"
      ],
      "text/plain": [
       "<IPython.core.display.HTML object>"
      ]
     },
     "execution_count": 3,
     "metadata": {},
     "output_type": "execute_result"
    }
   ],
   "source": [
    "from collections import defaultdict\n",
    "import string\n",
    "import operator\n",
    "\n",
    "import numpy as np\n",
    "\n",
    "from sklearn.metrics import confusion_matrix\n",
    "from sklearn.linear_model import SGDClassifier\n",
    "from sklearn.feature_extraction.text import HashingVectorizer\n",
    "from sklearn.metrics import accuracy_score\n",
    "\n",
    "import nltk\n",
    "nltk.download('wordnet')\n",
    "nltk.download('brown')\n",
    "\n",
    "from nltk.corpus import wordnet as wn\n",
    "from nltk.corpus import brown\n",
    "from nltk.util import ngrams\n",
    "\n",
    "import seaborn as sn \n",
    "import matplotlib.pyplot as plt\n",
    "%matplotlib inline\n",
    "\n",
    "mycolors = {\"blue\": \"steelblue\", \"red\": \"#a76c6e\", \"green\": \"#6a9373\"}\n",
    "\n",
    "\n",
    "def normalize_tags(tag):\n",
    "    if not tag or not tag[0] in \"ABCDEFGHIJKLMNOPQRSTUVWXYZ\":\n",
    "        return \"PUNC\"\n",
    "    else:\n",
    "        return tag[:2]\n",
    "\n",
    "\n",
    "kTAGSET = [\"\", \"JJ\", \"NN\", \"PP\", \"RB\", \"VB\"]\n",
    "\n",
    "class Analyzer:\n",
    "    def __init__(self, word, before, after, prev, next, char, dict):\n",
    "        self.word = word\n",
    "        self.after = after\n",
    "        self.before = before\n",
    "        self.prev = prev\n",
    "        self.next = next\n",
    "        self.dict = dict\n",
    "        self.char = char\n",
    "\n",
    "    def __call__(self, feature_string):\n",
    "        feats = feature_string.split()\n",
    "\n",
    "        if self.word:\n",
    "            yield feats[0]\n",
    "\n",
    "        if self.after:\n",
    "            for ii in [x for x in feats if x.startswith(\"A:\")]:\n",
    "                yield ii\n",
    "        if self.before:\n",
    "            for ii in [x for x in feats if x.startswith(\"B:\")]:\n",
    "                yield ii\n",
    "        if self.prev:\n",
    "            for ii in [x for x in feats if x.startswith(\"P:\")]:\n",
    "                yield ii\n",
    "        if self.next:\n",
    "            for ii in [x for x in feats if x.startswith(\"N:\")]:\n",
    "                yield ii\n",
    "        if self.dict:\n",
    "            for ii in [x for x in feats if x.startswith(\"D:\")]:\n",
    "                yield ii\n",
    "        if self.char:\n",
    "            for ii in [x for x in feats if x.startswith(\"C:\")]:\n",
    "                yield ii\n",
    "                \n",
    "def example(sentence, position):\n",
    "        word = sentence[position][0]\n",
    "        ex = word\n",
    "        tag = normalize_tags(sentence[position][1])\n",
    "        if tag in kTAGSET:\n",
    "            target = kTAGSET.index(tag)\n",
    "        else:\n",
    "            target = None\n",
    "\n",
    "        if position > 0:\n",
    "            prev = \" P:%s\" % sentence[position - 1][0]\n",
    "        else:\n",
    "            prev = \"\"\n",
    "\n",
    "        if position < len(sentence) - 1:\n",
    "            next = \" N:%s\" % sentence[position + 1][0]\n",
    "        else:\n",
    "            next = ''\n",
    "\n",
    "        all_before = \" \" + \" \".join([\"B:%s\" % x[0] for x in sentence[:position]])\n",
    "        all_after = \" \" + \" \".join([\"A:%s\" % x[0] for x in sentence[(position + 1):]])\n",
    "\n",
    "        dictionary = [\"D:ADJ\"] * len(wn.synsets(word, wn.ADJ)) + \\\n",
    "          [\"D:ADV\"] * len(wn.synsets(word, wn.ADV)) + \\\n",
    "          [\"D:VERB\"] * len(wn.synsets(word, wn.VERB)) + \\\n",
    "          [\"D:NOUN\"] * len(wn.synsets(word, wn.NOUN))\n",
    "\n",
    "        dictionary = \" \" + \" \".join(dictionary)\n",
    "\n",
    "        char = ' '\n",
    "        padded_word = \"~%s^\" % sentence[position][0]\n",
    "        for ngram_length in range(2, 5):\n",
    "            char += ' ' + \" \".join(\"C:%s\" % \"\".join(cc for cc in x)\n",
    "                                   for x in ngrams(padded_word, ngram_length))\n",
    "        ex += char\n",
    "\n",
    "        ex += prev\n",
    "        ex += next\n",
    "        ex += all_after\n",
    "        ex += all_before\n",
    "        ex += dictionary\n",
    "\n",
    "        return ex, target\n",
    "    \n",
    "def all_examples(limit, train=True):\n",
    "    sent_num = 0\n",
    "    for ii in brown.tagged_sents():\n",
    "        sent_num += 1\n",
    "        if limit > 0 and sent_num > limit:\n",
    "            break\n",
    "\n",
    "        for jj in range(len(ii)):\n",
    "            ex, tgt = example(ii, jj)\n",
    "            if tgt:\n",
    "                if train and sent_num % 5 != 0:\n",
    "                    yield ex, tgt\n",
    "                if not train and sent_num % 5 == 0:\n",
    "                    yield ex, tgt\n",
    "                    \n",
    "def accuracy(classifier, x, y, examples):\n",
    "    predictions = classifier.predict(x)\n",
    "    cm = confusion_matrix(y, predictions)\n",
    "\n",
    "    print(\"Accuracy: %f\" % accuracy_score(y, predictions))\n",
    "\n",
    "    print(\"\\nConfusion Matrix:\\n\")\n",
    "    print(\"\\t\".join(kTAGSET[1:]))\n",
    "    for ii in cm:\n",
    "        print(\"\\t\".join(str(x) for x in ii))\n",
    "\n",
    "    errors = defaultdict(int)\n",
    "    for ii, ex_tuple in enumerate(examples):\n",
    "        ex, tgt = ex_tuple\n",
    "        if tgt != predictions[ii]:\n",
    "            errors[(ex.split()[0], kTAGSET[predictions[ii]], kTAGSET[tgt])] += 1\n",
    "\n",
    "    print(\"\\nSome misclassified examples:\\n\")\n",
    "    for ww, cc in sorted(errors.items(), key=operator.itemgetter(1), reverse=True)[:10]:\n",
    "        print(\"word: {:10s}  prediced pos: {:2s}      true pos: {:2s}\".format(ww[0], ww[1], ww[2]))\n",
    "        \n",
    "def part_of_speech(**kwargs):\n",
    "    word = kwargs.get(\"word\", False)\n",
    "    all_before = kwargs.get(\"all_before\", False)\n",
    "    all_after = kwargs.get(\"all_after\", False)\n",
    "    one_before = kwargs.get(\"one_before\", False)\n",
    "    one_after = kwargs.get(\"one_after\", False)\n",
    "    characters = kwargs.get(\"characters\", False)\n",
    "    dictionary = kwargs.get(\"dictionary\", False)\n",
    "    limit= kwargs.get(\"limit\",-1)\n",
    "    \n",
    "    analyzer = Analyzer(word, all_before, all_after, one_before, one_after, characters, dictionary)\n",
    "    \n",
    "    vectorizer = HashingVectorizer(analyzer=analyzer)\n",
    "\n",
    "    x_train = vectorizer.fit_transform(ex for ex, tgt in all_examples(limit))\n",
    "    x_valid = vectorizer.fit_transform(ex for ex, tgt in all_examples(limit, train=False))\n",
    "    \n",
    "    print(\"Example Features:\")\n",
    "    exstr = \"\\n\"\n",
    "    for ex, tgt in all_examples(1):\n",
    "        exstr += \" \".join(analyzer(ex)) + \"\\n\"\n",
    "    if exstr.replace(\" \", \"\").replace(\"\\n\", \"\") == \"\":\n",
    "        print(\"\\n\")\n",
    "    else:\n",
    "        print(exstr)\n",
    "\n",
    "    y_train = np.array(list(tgt for ex, tgt in all_examples(limit)))\n",
    "    y_valid = np.array(list(tgt for ex, tgt in all_examples(limit, train=False)))\n",
    "\n",
    "    lr = SGDClassifier(loss='log', penalty='l2', tol=None, max_iter=5, shuffle=True)\n",
    "    lr.fit(x_train, y_train)\n",
    "\n",
    "    print(\"\\nTraining Set\\n-------------------------\")\n",
    "    accuracy(lr, x_train, y_train, all_examples(limit))\n",
    "    print(\"\\nValidation Set\\n--------------------\")\n",
    "    accuracy(lr, x_valid, y_valid, all_examples(limit, train=False))\n",
    "    \n",
    "np.random.seed(1234)\n",
    "    \n",
    "def income_data(N=200):\n",
    "    x = 1.1*np.random.normal(size=N)\n",
    "    y = np.exp(x)\n",
    "    return y\n",
    "\n",
    "from IPython.core.display import HTML\n",
    "HTML(\"\"\"\n",
    "<style>\n",
    ".MathJax nobr>span.math>span{border-left-width:0 !important};\n",
    "</style>\n",
    "\"\"\")"
   ]
  },
  {
   "cell_type": "code",
   "execution_count": null,
   "metadata": {
    "collapsed": true
   },
   "outputs": [],
   "source": []
  }
 ],
 "metadata": {
  "anaconda-cloud": {},
  "kernelspec": {
   "display_name": "Python [Root]",
   "language": "python",
   "name": "Python [Root]"
  },
  "language_info": {
   "codemirror_mode": {
    "name": "ipython",
    "version": 3
   },
   "file_extension": ".py",
   "mimetype": "text/x-python",
   "name": "python",
   "nbconvert_exporter": "python",
   "pygments_lexer": "ipython3",
   "version": "3.5.2"
  }
 },
 "nbformat": 4,
 "nbformat_minor": 1
}
